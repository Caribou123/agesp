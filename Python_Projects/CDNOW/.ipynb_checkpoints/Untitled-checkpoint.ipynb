{
 "cells": [
  {
   "cell_type": "code",
   "execution_count": 180,
   "metadata": {},
   "outputs": [],
   "source": [
    "import numpy as np\n",
    "from IPython.display import display\n",
    "import matplotlib.pyplot as plt\n",
    "import pandas as pd\n",
    "\n",
    "import cufflinks as cf\n",
    "import plotly.offline\n",
    "cf.go_offline()\n",
    "cf.set_config_file(offline=False, world_readable=True)\n",
    "\n",
    "%matplotlib inline"
   ]
  },
  {
   "cell_type": "code",
   "execution_count": 154,
   "metadata": {},
   "outputs": [
    {
     "name": "stdout",
     "output_type": "stream",
     "text": [
      "<class 'pandas.core.frame.DataFrame'>\n"
     ]
    }
   ],
   "source": [
    "data = pd.read_csv('CDNOW_master.txt', delim_whitespace=True, names=['id', 'date', 'quantity', 'cost'])\n",
    "# Sort dataframe by date\n",
    "# data = data.drop(data[data.cost == 0].index)\n",
    "data = data.sort_values(['date'])\n",
    "# Add year/month columns for later\n",
    "data['year'] = [str(x)[:4] for x in data['date']]\n",
    "data['month'] = [str(x)[4:6] for x in data['date']]\n",
    "data['day'] = [str(x)[6:8] for x in data['date']]\n",
    "data['date'] = pd.to_datetime(data['date'], format='%Y%m%d')\n",
    "data['unix_epoch'] = pd.to_datetime(data['date']).astype(int)\n"
   ]
  },
  {
   "cell_type": "code",
   "execution_count": 121,
   "metadata": {},
   "outputs": [
    {
     "name": "stdout",
     "output_type": "stream",
     "text": [
      "Small preview\n"
     ]
    },
    {
     "data": {
      "text/html": [
       "<div>\n",
       "<style scoped>\n",
       "    .dataframe tbody tr th:only-of-type {\n",
       "        vertical-align: middle;\n",
       "    }\n",
       "\n",
       "    .dataframe tbody tr th {\n",
       "        vertical-align: top;\n",
       "    }\n",
       "\n",
       "    .dataframe thead th {\n",
       "        text-align: right;\n",
       "    }\n",
       "</style>\n",
       "<table border=\"1\" class=\"dataframe\">\n",
       "  <thead>\n",
       "    <tr style=\"text-align: right;\">\n",
       "      <th></th>\n",
       "      <th>id</th>\n",
       "      <th>date</th>\n",
       "      <th>quantity</th>\n",
       "      <th>cost</th>\n",
       "      <th>year</th>\n",
       "      <th>month</th>\n",
       "      <th>day</th>\n",
       "      <th>unix_epoch</th>\n",
       "    </tr>\n",
       "  </thead>\n",
       "  <tbody>\n",
       "    <tr>\n",
       "      <th>0</th>\n",
       "      <td>1</td>\n",
       "      <td>1997-01-01</td>\n",
       "      <td>1</td>\n",
       "      <td>11.77</td>\n",
       "      <td>1997</td>\n",
       "      <td>01</td>\n",
       "      <td>01</td>\n",
       "      <td>852076800000000000</td>\n",
       "    </tr>\n",
       "    <tr>\n",
       "      <th>802</th>\n",
       "      <td>216</td>\n",
       "      <td>1997-01-01</td>\n",
       "      <td>1</td>\n",
       "      <td>13.97</td>\n",
       "      <td>1997</td>\n",
       "      <td>01</td>\n",
       "      <td>01</td>\n",
       "      <td>852076800000000000</td>\n",
       "    </tr>\n",
       "    <tr>\n",
       "      <th>337</th>\n",
       "      <td>89</td>\n",
       "      <td>1997-01-01</td>\n",
       "      <td>3</td>\n",
       "      <td>47.08</td>\n",
       "      <td>1997</td>\n",
       "      <td>01</td>\n",
       "      <td>01</td>\n",
       "      <td>852076800000000000</td>\n",
       "    </tr>\n",
       "    <tr>\n",
       "      <th>803</th>\n",
       "      <td>217</td>\n",
       "      <td>1997-01-01</td>\n",
       "      <td>2</td>\n",
       "      <td>57.54</td>\n",
       "      <td>1997</td>\n",
       "      <td>01</td>\n",
       "      <td>01</td>\n",
       "      <td>852076800000000000</td>\n",
       "    </tr>\n",
       "    <tr>\n",
       "      <th>808</th>\n",
       "      <td>219</td>\n",
       "      <td>1997-01-01</td>\n",
       "      <td>3</td>\n",
       "      <td>38.51</td>\n",
       "      <td>1997</td>\n",
       "      <td>01</td>\n",
       "      <td>01</td>\n",
       "      <td>852076800000000000</td>\n",
       "    </tr>\n",
       "  </tbody>\n",
       "</table>\n",
       "</div>"
      ],
      "text/plain": [
       "      id       date  quantity   cost  year month day          unix_epoch\n",
       "0      1 1997-01-01         1  11.77  1997    01  01  852076800000000000\n",
       "802  216 1997-01-01         1  13.97  1997    01  01  852076800000000000\n",
       "337   89 1997-01-01         3  47.08  1997    01  01  852076800000000000\n",
       "803  217 1997-01-01         2  57.54  1997    01  01  852076800000000000\n",
       "808  219 1997-01-01         3  38.51  1997    01  01  852076800000000000"
      ]
     },
     "metadata": {},
     "output_type": "display_data"
    },
    {
     "data": {
      "text/html": [
       "<div>\n",
       "<style scoped>\n",
       "    .dataframe tbody tr th:only-of-type {\n",
       "        vertical-align: middle;\n",
       "    }\n",
       "\n",
       "    .dataframe tbody tr th {\n",
       "        vertical-align: top;\n",
       "    }\n",
       "\n",
       "    .dataframe thead th {\n",
       "        text-align: right;\n",
       "    }\n",
       "</style>\n",
       "<table border=\"1\" class=\"dataframe\">\n",
       "  <thead>\n",
       "    <tr style=\"text-align: right;\">\n",
       "      <th></th>\n",
       "      <th>id</th>\n",
       "      <th>date</th>\n",
       "      <th>quantity</th>\n",
       "      <th>cost</th>\n",
       "      <th>year</th>\n",
       "      <th>month</th>\n",
       "      <th>day</th>\n",
       "      <th>unix_epoch</th>\n",
       "    </tr>\n",
       "  </thead>\n",
       "  <tbody>\n",
       "    <tr>\n",
       "      <th>35093</th>\n",
       "      <td>11515</td>\n",
       "      <td>1998-06-30</td>\n",
       "      <td>4</td>\n",
       "      <td>47.46</td>\n",
       "      <td>1998</td>\n",
       "      <td>06</td>\n",
       "      <td>30</td>\n",
       "      <td>899164800000000000</td>\n",
       "    </tr>\n",
       "    <tr>\n",
       "      <th>56656</th>\n",
       "      <td>18912</td>\n",
       "      <td>1998-06-30</td>\n",
       "      <td>3</td>\n",
       "      <td>40.36</td>\n",
       "      <td>1998</td>\n",
       "      <td>06</td>\n",
       "      <td>30</td>\n",
       "      <td>899164800000000000</td>\n",
       "    </tr>\n",
       "    <tr>\n",
       "      <th>26992</th>\n",
       "      <td>8631</td>\n",
       "      <td>1998-06-30</td>\n",
       "      <td>2</td>\n",
       "      <td>29.91</td>\n",
       "      <td>1998</td>\n",
       "      <td>06</td>\n",
       "      <td>30</td>\n",
       "      <td>899164800000000000</td>\n",
       "    </tr>\n",
       "    <tr>\n",
       "      <th>8972</th>\n",
       "      <td>2844</td>\n",
       "      <td>1998-06-30</td>\n",
       "      <td>2</td>\n",
       "      <td>33.48</td>\n",
       "      <td>1998</td>\n",
       "      <td>06</td>\n",
       "      <td>30</td>\n",
       "      <td>899164800000000000</td>\n",
       "    </tr>\n",
       "    <tr>\n",
       "      <th>53628</th>\n",
       "      <td>17786</td>\n",
       "      <td>1998-06-30</td>\n",
       "      <td>2</td>\n",
       "      <td>27.98</td>\n",
       "      <td>1998</td>\n",
       "      <td>06</td>\n",
       "      <td>30</td>\n",
       "      <td>899164800000000000</td>\n",
       "    </tr>\n",
       "  </tbody>\n",
       "</table>\n",
       "</div>"
      ],
      "text/plain": [
       "          id       date  quantity   cost  year month day          unix_epoch\n",
       "35093  11515 1998-06-30         4  47.46  1998    06  30  899164800000000000\n",
       "56656  18912 1998-06-30         3  40.36  1998    06  30  899164800000000000\n",
       "26992   8631 1998-06-30         2  29.91  1998    06  30  899164800000000000\n",
       "8972    2844 1998-06-30         2  33.48  1998    06  30  899164800000000000\n",
       "53628  17786 1998-06-30         2  27.98  1998    06  30  899164800000000000"
      ]
     },
     "metadata": {},
     "output_type": "display_data"
    },
    {
     "data": {
      "text/html": [
       "<div>\n",
       "<style scoped>\n",
       "    .dataframe tbody tr th:only-of-type {\n",
       "        vertical-align: middle;\n",
       "    }\n",
       "\n",
       "    .dataframe tbody tr th {\n",
       "        vertical-align: top;\n",
       "    }\n",
       "\n",
       "    .dataframe thead th {\n",
       "        text-align: right;\n",
       "    }\n",
       "</style>\n",
       "<table border=\"1\" class=\"dataframe\">\n",
       "  <thead>\n",
       "    <tr style=\"text-align: right;\">\n",
       "      <th></th>\n",
       "      <th>id</th>\n",
       "      <th>quantity</th>\n",
       "      <th>cost</th>\n",
       "      <th>unix_epoch</th>\n",
       "    </tr>\n",
       "  </thead>\n",
       "  <tbody>\n",
       "    <tr>\n",
       "      <th>count</th>\n",
       "      <td>69659.000000</td>\n",
       "      <td>69659.000000</td>\n",
       "      <td>69659.000000</td>\n",
       "      <td>6.965900e+04</td>\n",
       "    </tr>\n",
       "    <tr>\n",
       "      <th>mean</th>\n",
       "      <td>11470.854592</td>\n",
       "      <td>2.410040</td>\n",
       "      <td>35.893648</td>\n",
       "      <td>8.678830e+17</td>\n",
       "    </tr>\n",
       "    <tr>\n",
       "      <th>std</th>\n",
       "      <td>6819.904848</td>\n",
       "      <td>2.333924</td>\n",
       "      <td>36.281942</td>\n",
       "      <td>1.378178e+16</td>\n",
       "    </tr>\n",
       "    <tr>\n",
       "      <th>min</th>\n",
       "      <td>1.000000</td>\n",
       "      <td>1.000000</td>\n",
       "      <td>0.000000</td>\n",
       "      <td>8.520768e+17</td>\n",
       "    </tr>\n",
       "    <tr>\n",
       "      <th>25%</th>\n",
       "      <td>5506.000000</td>\n",
       "      <td>1.000000</td>\n",
       "      <td>14.490000</td>\n",
       "      <td>8.565696e+17</td>\n",
       "    </tr>\n",
       "    <tr>\n",
       "      <th>50%</th>\n",
       "      <td>11410.000000</td>\n",
       "      <td>2.000000</td>\n",
       "      <td>25.980000</td>\n",
       "      <td>8.618400e+17</td>\n",
       "    </tr>\n",
       "    <tr>\n",
       "      <th>75%</th>\n",
       "      <td>17273.000000</td>\n",
       "      <td>3.000000</td>\n",
       "      <td>43.700000</td>\n",
       "      <td>8.788608e+17</td>\n",
       "    </tr>\n",
       "    <tr>\n",
       "      <th>max</th>\n",
       "      <td>23570.000000</td>\n",
       "      <td>99.000000</td>\n",
       "      <td>1286.010000</td>\n",
       "      <td>8.991648e+17</td>\n",
       "    </tr>\n",
       "  </tbody>\n",
       "</table>\n",
       "</div>"
      ],
      "text/plain": [
       "                 id      quantity          cost    unix_epoch\n",
       "count  69659.000000  69659.000000  69659.000000  6.965900e+04\n",
       "mean   11470.854592      2.410040     35.893648  8.678830e+17\n",
       "std     6819.904848      2.333924     36.281942  1.378178e+16\n",
       "min        1.000000      1.000000      0.000000  8.520768e+17\n",
       "25%     5506.000000      1.000000     14.490000  8.565696e+17\n",
       "50%    11410.000000      2.000000     25.980000  8.618400e+17\n",
       "75%    17273.000000      3.000000     43.700000  8.788608e+17\n",
       "max    23570.000000     99.000000   1286.010000  8.991648e+17"
      ]
     },
     "metadata": {},
     "output_type": "display_data"
    },
    {
     "name": "stdout",
     "output_type": "stream",
     "text": [
      "23570\n"
     ]
    }
   ],
   "source": [
    "# Small preview\n",
    "print('Small preview')\n",
    "display(data.head(), data.tail())\n",
    "display(data.describe())\n",
    "print(data.id.nunique())\n"
   ]
  },
  {
   "cell_type": "code",
   "execution_count": 122,
   "metadata": {},
   "outputs": [
    {
     "name": "stdout",
     "output_type": "stream",
     "text": [
      "A total of :  167881 CDs were sold from 1997-01 to 1998-06\n",
      "On average 9327.0 CDs were sold each month\n",
      "On average 308.0 CDs were sold each day\n",
      "Total revenue 2500315.6300000004\n"
     ]
    }
   ],
   "source": [
    "total = data['quantity'].sum()\n",
    "print('A total of : ',total, 'CDs were sold from 1997-01 to 1998-06')\n",
    "# Sample has been collected on a period of 18 months from 1997-01 to 1998-06\n",
    "# Average number CD's sold each month\n",
    "avr_month = total / 18\n",
    "print('On average', np.ceil(avr_month), 'CDs were sold each month')\n",
    "# Average number CD's sold each day\n",
    "total_work_days = data['date'].nunique()\n",
    "avr_day = total / total_work_days\n",
    "print('On average', np.ceil(avr_day), 'CDs were sold each day')\n",
    "total_profit = data['cost'].sum()\n",
    "print('Total revenue', total_profit)\n",
    "# About 2.5 million"
   ]
  },
  {
   "cell_type": "markdown",
   "metadata": {},
   "source": [
    "<h1><font color=red >Analysis by year/month/day</font></h1>"
   ]
  },
  {
   "cell_type": "code",
   "execution_count": 123,
   "metadata": {},
   "outputs": [],
   "source": [
    "# Let's group the dataframe by year\n",
    "group_year = data.groupby('year')"
   ]
  },
  {
   "cell_type": "code",
   "execution_count": 124,
   "metadata": {},
   "outputs": [
    {
     "data": {
      "text/plain": [
       "month\n",
       "01    627.0\n",
       "02    891.0\n",
       "03    844.0\n",
       "04    325.0\n",
       "05    235.0\n",
       "06    244.0\n",
       "07    263.0\n",
       "08    189.0\n",
       "09    191.0\n",
       "10    201.0\n",
       "11    261.0\n",
       "12    208.0\n",
       "dtype: float64"
      ]
     },
     "metadata": {},
     "output_type": "display_data"
    },
    {
     "data": {
      "text/plain": [
       "count     12.000000\n",
       "mean     372.672421\n",
       "std      259.537888\n",
       "min      188.741935\n",
       "25%      205.298387\n",
       "50%      251.883333\n",
       "75%      399.805645\n",
       "max      890.035714\n",
       "dtype: float64"
      ]
     },
     "metadata": {},
     "output_type": "display_data"
    },
    {
     "data": {
      "text/plain": [
       "[<matplotlib.lines.Line2D at 0x1372b0e50>]"
      ]
     },
     "execution_count": 124,
     "metadata": {},
     "output_type": "execute_result"
    },
    {
     "data": {
      "image/png": "[encoded data removed]",
      "text/plain": [
       "<Figure size 432x288 with 1 Axes>"
      ]
     },
     "metadata": {
      "needs_background": "light"
     },
     "output_type": "display_data"
    }
   ],
   "source": [
    "# First year first !\n",
    "year_1 = group_year.get_group('1997')\n",
    "# Group by months\n",
    "group_months_y1 = year_1.groupby('month')\n",
    "# Get the number of working days per month\n",
    "wdays_per_month_y1 = group_months_y1['date'].nunique()\n",
    "# average number CDs sold each day each month\n",
    "avr_per_month_y1 = group_months_y1['quantity'].sum() / wdays_per_month_y1\n",
    "display(np.ceil(avr_per_month_y1))\n",
    "display(avr_per_month_y1.describe())\n",
    "# Now let's plot it\n",
    "plt.title('Sales number per day per month')\n",
    "plt.plot(avr_per_month_y1)\n",
    "# From that we can see that most CDs are sold during the first trimester of 1997"
   ]
  },
  {
   "cell_type": "markdown",
   "metadata": {},
   "source": [
    "<h2><font color=yellow>USERS PER MONTH</font></h2>"
   ]
  },
  {
   "cell_type": "code",
   "execution_count": 125,
   "metadata": {},
   "outputs": [
    {
     "name": "stdout",
     "output_type": "stream",
     "text": [
      "month\n",
      "01    7846\n",
      "02    9633\n",
      "03    9524\n",
      "04    2822\n",
      "05    2214\n",
      "06    2339\n",
      "07    2180\n",
      "08    1772\n",
      "09    1739\n",
      "10    1839\n",
      "11    2028\n",
      "12    1864\n",
      "Name: id, dtype: int64\n"
     ]
    },
    {
     "data": {
      "text/plain": [
       "Text(0.5, 1.0, 'Client number per month')"
      ]
     },
     "execution_count": 125,
     "metadata": {},
     "output_type": "execute_result"
    },
    {
     "data": {
      "image/png": "[encoded data removed]",
      "text/plain": [
       "<Figure size 432x288 with 1 Axes>"
      ]
     },
     "metadata": {
      "needs_background": "light"
     },
     "output_type": "display_data"
    }
   ],
   "source": [
    "# Evolution of the number of consumers each month\n",
    "# Number of different consumer having made atleast one purchase each month\n",
    "user_per_month_y1 = group_months_y1['id'].nunique()\n",
    "print(user_per_month_y1)\n",
    "a = plt.plot(user_per_month_y1)\n",
    "plt.title('Client number per month')\n",
    "# We can see that sales and consumers numbers are stronly correlated\n"
   ]
  },
  {
   "cell_type": "markdown",
   "metadata": {},
   "source": [
    "<h1><font color=red >Analysis by year/month/day 2</font></h1>"
   ]
  },
  {
   "cell_type": "code",
   "execution_count": 126,
   "metadata": {},
   "outputs": [
    {
     "data": {
      "text/plain": [
       "month\n",
       "01    171.0\n",
       "02    191.0\n",
       "03    240.0\n",
       "04    157.0\n",
       "05    159.0\n",
       "06    177.0\n",
       "dtype: float64"
      ]
     },
     "metadata": {},
     "output_type": "display_data"
    },
    {
     "data": {
      "text/plain": [
       "count      6.000000\n",
       "mean     181.940553\n",
       "std       30.959943\n",
       "min      156.566667\n",
       "25%      161.185484\n",
       "50%      173.245699\n",
       "75%      187.094048\n",
       "max      239.709677\n",
       "dtype: float64"
      ]
     },
     "metadata": {},
     "output_type": "display_data"
    },
    {
     "data": {
      "text/plain": [
       "[<matplotlib.lines.Line2D at 0x1362ac4d0>]"
      ]
     },
     "execution_count": 126,
     "metadata": {},
     "output_type": "execute_result"
    },
    {
     "data": {
      "image/png": "[encoded data removed]",
      "text/plain": [
       "<Figure size 432x288 with 1 Axes>"
      ]
     },
     "metadata": {
      "needs_background": "light"
     },
     "output_type": "display_data"
    }
   ],
   "source": [
    "year_2 = group_year.get_group('1998')\n",
    "# Group by months\n",
    "group_months_y2 = year_2.groupby('month')\n",
    "# Get the number of working days per month\n",
    "wdays_per_month_y2 = group_months_y2['date'].nunique()\n",
    "# average number CDs sold each month\n",
    "avr_per_month_y2 = group_months_y2['quantity'].sum() / wdays_per_month_y2\n",
    "display(np.ceil(avr_per_month_y2))\n",
    "display(avr_per_month_y2.describe())\n",
    "plt.title('Sales number per day per month')\n",
    "plt.plot(avr_per_month_y2)\n",
    "# Sales have decreased considerably for the first trimester, but are more homogeneous.\n",
    "# When compared to overall CD sales by year, this decrease seems coherent."
   ]
  },
  {
   "cell_type": "code",
   "execution_count": 127,
   "metadata": {},
   "outputs": [
    {
     "name": "stdout",
     "output_type": "stream",
     "text": [
      "month\n",
      "01    1537\n",
      "02    1551\n",
      "03    2060\n",
      "04    1437\n",
      "05    1488\n",
      "06    1506\n",
      "Name: id, dtype: int64\n"
     ]
    },
    {
     "data": {
      "text/plain": [
       "Text(0.5, 1.0, 'Client number per month')"
      ]
     },
     "execution_count": 127,
     "metadata": {},
     "output_type": "execute_result"
    },
    {
     "data": {
      "image/png": "[encoded data removed]",
      "text/plain": [
       "<Figure size 432x288 with 1 Axes>"
      ]
     },
     "metadata": {
      "needs_background": "light"
     },
     "output_type": "display_data"
    }
   ],
   "source": [
    "# Evolution of the number of consumers each month\n",
    "# Number of different consumers having made atleast one purchase each month\n",
    "user_per_month_y2 = group_months_y2['id'].nunique()\n",
    "print(user_per_month_y2)\n",
    "a = plt.plot(user_per_month_y2)\n",
    "plt.title('Client number per month')\n",
    "# We can see that sales and consumers numbers are stronly correlated\n"
   ]
  },
  {
   "cell_type": "markdown",
   "metadata": {},
   "source": [
    "<h1><font color=red>ANALYSIS OF CLIENTS</font></h1>"
   ]
  },
  {
   "cell_type": "code",
   "execution_count": 128,
   "metadata": {},
   "outputs": [],
   "source": [
    "group_client = data.groupby('id')"
   ]
  },
  {
   "cell_type": "code",
   "execution_count": 143,
   "metadata": {},
   "outputs": [],
   "source": [
    "# CDs purchase by client\n",
    "cd_purchase_per_client = group_client['quantity'].sum()\n",
    "\n",
    "number_purchase_per_client = group_client['quantity'].count()\n",
    "\n",
    "profit_made_per_client = group_client['cost'].sum()\n",
    "\n",
    "\n",
    "\n",
    "# As expected clients buying more cd's also make more purchases"
   ]
  },
  {
   "cell_type": "code",
   "execution_count": 130,
   "metadata": {},
   "outputs": [
    {
     "data": {
      "text/plain": [
       "<matplotlib.collections.PathCollection at 0x137a12ed0>"
      ]
     },
     "execution_count": 130,
     "metadata": {},
     "output_type": "execute_result"
    },
    {
     "data": {
      "image/png": "[encoded data removed]",
      "text/plain": [
       "<Figure size 432x288 with 1 Axes>"
      ]
     },
     "metadata": {
      "needs_background": "light"
     },
     "output_type": "display_data"
    }
   ],
   "source": [
    "# Is profit related to the number of purchases ?\n",
    "# Here I am trying to determine if profit is related to the number of sales\n",
    "# i.e is profit generated by a great amount of light purchases or by scarce heavy pucharses ?\n",
    "# Seems like it's the first option\n",
    "plt.scatter(number_purchase_per_client, profit_made_per_client)"
   ]
  },
  {
   "cell_type": "code",
   "execution_count": 131,
   "metadata": {},
   "outputs": [
    {
     "data": {
      "text/plain": [
       "<matplotlib.collections.PathCollection at 0x137db7b90>"
      ]
     },
     "execution_count": 131,
     "metadata": {},
     "output_type": "execute_result"
    },
    {
     "data": {
      "image/png": "[encoded data removed]",
      "text/plain": [
       "<Figure size 432x288 with 1 Axes>"
      ]
     },
     "metadata": {
      "needs_background": "light"
     },
     "output_type": "display_data"
    }
   ],
   "source": [
    "# We can see that the number of sold cds is proportional to the profit \n",
    "plt.scatter(cd_purchase_per_client, profit_made_per_client)"
   ]
  },
  {
   "cell_type": "code",
   "execution_count": 132,
   "metadata": {},
   "outputs": [
    {
     "data": {
      "text/plain": [
       "<matplotlib.collections.PathCollection at 0x137acd950>"
      ]
     },
     "execution_count": 132,
     "metadata": {},
     "output_type": "execute_result"
    },
    {
     "data": {
      "image/png": "[encoded data removed]",
      "text/plain": [
       "<Figure size 432x288 with 1 Axes>"
      ]
     },
     "metadata": {
      "needs_background": "light"
     },
     "output_type": "display_data"
    }
   ],
   "source": [
    "# We can se here too, that customers making a lot of small purchases bring more money on average.\n",
    "avr_profit_per_transaction = profit_made_per_client / number_purchase_per_client\n",
    "\n",
    "\n",
    "plt.xlim(0,  600)\n",
    "plt.ylim(0, 6000)\n",
    "plt.scatter(avr_profit_per_transaction, profit_made_per_client)\n"
   ]
  },
  {
   "cell_type": "code",
   "execution_count": 133,
   "metadata": {},
   "outputs": [
    {
     "data": {
      "text/plain": [
       "<matplotlib.collections.PathCollection at 0x137d5d790>"
      ]
     },
     "execution_count": 133,
     "metadata": {},
     "output_type": "execute_result"
    },
    {
     "data": {
      "image/png": "[encoded data removed]",
      "text/plain": [
       "<Figure size 432x288 with 1 Axes>"
      ]
     },
     "metadata": {
      "needs_background": "light"
     },
     "output_type": "display_data"
    }
   ],
   "source": [
    "# This is the direct consequence of the previous plot\n",
    "plt.scatter(avr_profit_per_transaction, number_purchase_per_client)"
   ]
  },
  {
   "cell_type": "markdown",
   "metadata": {},
   "source": [
    "# We have seen that profit is correlated to the number of individual purchases. Let's try to segment consumers into different categories, depending on how much transactions they make,  we'll also create a column for the total profit generated by the consumer and the average profit per transaction."
   ]
  },
  {
   "cell_type": "code",
   "execution_count": 152,
   "metadata": {},
   "outputs": [
    {
     "name": "stdout",
     "output_type": "stream",
     "text": [
      "       avr_profit_per_transaction   avr_profit  customers  total_profit\n",
      "class                                                                  \n",
      "1                       31.795658    59.945672      20640    1237278.68\n",
      "2                       37.422212   278.907657       1980     552237.16\n",
      "3                       40.593092   512.559560        545     279344.96\n",
      "4                       39.403138   692.344062        192     132930.06\n",
      "5                       39.150370   889.178529        102      90696.21\n",
      "6                       43.036984  1286.852576         66      84932.27\n",
      "7                       29.697494  1130.423000         10      11304.23\n",
      "8                       48.960303  2052.117500          8      16416.94\n",
      "9                       44.216818  2146.776250          8      17174.21\n",
      "10                      43.219330  4105.311053         19      78000.91\n"
     ]
    }
   ],
   "source": [
    "# After looking at the histogram we classify the number of purchases in 5 classes\n",
    "binned_number_purchases = pd.cut(number_purchase_per_client, [0, 5, 10, 15, 20, 25, 35, 40,\n",
    "                                                              45, 50, 300],\n",
    "                                 labels=[1, 2, 3, 4, 5, 6, 7, 8, 9, 10]).rename('class')\n",
    "\n",
    "avr_profit_per_transaction = avr_profit_per_transaction.rename(\"avr_profit\")\n",
    "\n",
    "# Now we need to get the mean profit per class and the mean profit per class\n",
    "# First we concat all the needed Series togeter\n",
    "concat_all = pd.concat([binned_number_purchases, avr_profit_per_transaction, \n",
    "                        profit_made_per_client], axis=1)\n",
    "# We group by class\n",
    "group_by_bin = concat_all.groupby('class')\n",
    "\n",
    "# We get the mean\n",
    "individual_per_class = group_by_bin['cost'].count().rename('customers')\n",
    "mean_avr = group_by_bin['avr_profit'].mean().rename('avr_profit_per_transaction')\n",
    "mean_cost = group_by_bin['cost'].mean().rename('avr_profit')\n",
    "cohort_profit = (individual_per_class * mean_cost).rename('total_profit')\n",
    "# We concat them all back together\n",
    "class_set = pd.concat([mean_avr, mean_cost, individual_per_class, cohort_profit], axis=1)\n",
    "print(class_set)"
   ]
  },
  {
   "cell_type": "markdown",
   "metadata": {},
   "source": [
    "# Let's try to predict cost for one individual, form previous analysis we have seen that intersting variables are : number of purchase, profit per transaction, total revenue"
   ]
  },
  {
   "cell_type": "code",
   "execution_count": 185,
   "metadata": {},
   "outputs": [
    {
     "data": {
      "text/html": [
       "<div>\n",
       "<style scoped>\n",
       "    .dataframe tbody tr th:only-of-type {\n",
       "        vertical-align: middle;\n",
       "    }\n",
       "\n",
       "    .dataframe tbody tr th {\n",
       "        vertical-align: top;\n",
       "    }\n",
       "\n",
       "    .dataframe thead th {\n",
       "        text-align: right;\n",
       "    }\n",
       "</style>\n",
       "<table border=\"1\" class=\"dataframe\">\n",
       "  <thead>\n",
       "    <tr style=\"text-align: right;\">\n",
       "      <th></th>\n",
       "      <th>id</th>\n",
       "      <th>date</th>\n",
       "      <th>quantity</th>\n",
       "      <th>cost</th>\n",
       "      <th>year</th>\n",
       "      <th>month</th>\n",
       "      <th>day</th>\n",
       "      <th>unix_epoch</th>\n",
       "    </tr>\n",
       "  </thead>\n",
       "  <tbody>\n",
       "    <tr>\n",
       "      <th>0</th>\n",
       "      <td>1</td>\n",
       "      <td>1997-01-01</td>\n",
       "      <td>1</td>\n",
       "      <td>11.77</td>\n",
       "      <td>1997</td>\n",
       "      <td>01</td>\n",
       "      <td>01</td>\n",
       "      <td>852076800000000000</td>\n",
       "    </tr>\n",
       "    <tr>\n",
       "      <th>802</th>\n",
       "      <td>216</td>\n",
       "      <td>1997-01-01</td>\n",
       "      <td>1</td>\n",
       "      <td>13.97</td>\n",
       "      <td>1997</td>\n",
       "      <td>01</td>\n",
       "      <td>01</td>\n",
       "      <td>852076800000000000</td>\n",
       "    </tr>\n",
       "    <tr>\n",
       "      <th>337</th>\n",
       "      <td>89</td>\n",
       "      <td>1997-01-01</td>\n",
       "      <td>3</td>\n",
       "      <td>47.08</td>\n",
       "      <td>1997</td>\n",
       "      <td>01</td>\n",
       "      <td>01</td>\n",
       "      <td>852076800000000000</td>\n",
       "    </tr>\n",
       "    <tr>\n",
       "      <th>803</th>\n",
       "      <td>217</td>\n",
       "      <td>1997-01-01</td>\n",
       "      <td>2</td>\n",
       "      <td>57.54</td>\n",
       "      <td>1997</td>\n",
       "      <td>01</td>\n",
       "      <td>01</td>\n",
       "      <td>852076800000000000</td>\n",
       "    </tr>\n",
       "    <tr>\n",
       "      <th>808</th>\n",
       "      <td>219</td>\n",
       "      <td>1997-01-01</td>\n",
       "      <td>3</td>\n",
       "      <td>38.51</td>\n",
       "      <td>1997</td>\n",
       "      <td>01</td>\n",
       "      <td>01</td>\n",
       "      <td>852076800000000000</td>\n",
       "    </tr>\n",
       "  </tbody>\n",
       "</table>\n",
       "</div>"
      ],
      "text/plain": [
       "      id       date  quantity   cost  year month day          unix_epoch\n",
       "0      1 1997-01-01         1  11.77  1997    01  01  852076800000000000\n",
       "802  216 1997-01-01         1  13.97  1997    01  01  852076800000000000\n",
       "337   89 1997-01-01         3  47.08  1997    01  01  852076800000000000\n",
       "803  217 1997-01-01         2  57.54  1997    01  01  852076800000000000\n",
       "808  219 1997-01-01         3  38.51  1997    01  01  852076800000000000"
      ]
     },
     "metadata": {},
     "output_type": "display_data"
    },
    {
     "data": {
      "text/html": [
       "<div>\n",
       "<style scoped>\n",
       "    .dataframe tbody tr th:only-of-type {\n",
       "        vertical-align: middle;\n",
       "    }\n",
       "\n",
       "    .dataframe tbody tr th {\n",
       "        vertical-align: top;\n",
       "    }\n",
       "\n",
       "    .dataframe thead th {\n",
       "        text-align: right;\n",
       "    }\n",
       "</style>\n",
       "<table border=\"1\" class=\"dataframe\">\n",
       "  <thead>\n",
       "    <tr style=\"text-align: right;\">\n",
       "      <th></th>\n",
       "      <th>id</th>\n",
       "      <th>date</th>\n",
       "      <th>quantity</th>\n",
       "      <th>cost</th>\n",
       "      <th>year</th>\n",
       "      <th>month</th>\n",
       "      <th>day</th>\n",
       "      <th>unix_epoch</th>\n",
       "    </tr>\n",
       "  </thead>\n",
       "  <tbody>\n",
       "    <tr>\n",
       "      <th>36525</th>\n",
       "      <td>11988</td>\n",
       "      <td>1997-10-02</td>\n",
       "      <td>1</td>\n",
       "      <td>11.49</td>\n",
       "      <td>1997</td>\n",
       "      <td>10</td>\n",
       "      <td>02</td>\n",
       "      <td>875750400000000000</td>\n",
       "    </tr>\n",
       "    <tr>\n",
       "      <th>35625</th>\n",
       "      <td>11682</td>\n",
       "      <td>1997-10-02</td>\n",
       "      <td>2</td>\n",
       "      <td>24.48</td>\n",
       "      <td>1997</td>\n",
       "      <td>10</td>\n",
       "      <td>02</td>\n",
       "      <td>875750400000000000</td>\n",
       "    </tr>\n",
       "    <tr>\n",
       "      <th>1674</th>\n",
       "      <td>499</td>\n",
       "      <td>1997-10-02</td>\n",
       "      <td>1</td>\n",
       "      <td>9.49</td>\n",
       "      <td>1997</td>\n",
       "      <td>10</td>\n",
       "      <td>02</td>\n",
       "      <td>875750400000000000</td>\n",
       "    </tr>\n",
       "    <tr>\n",
       "      <th>58999</th>\n",
       "      <td>19710</td>\n",
       "      <td>1997-10-02</td>\n",
       "      <td>2</td>\n",
       "      <td>21.98</td>\n",
       "      <td>1997</td>\n",
       "      <td>10</td>\n",
       "      <td>02</td>\n",
       "      <td>875750400000000000</td>\n",
       "    </tr>\n",
       "    <tr>\n",
       "      <th>31954</th>\n",
       "      <td>10344</td>\n",
       "      <td>1997-10-02</td>\n",
       "      <td>3</td>\n",
       "      <td>45.47</td>\n",
       "      <td>1997</td>\n",
       "      <td>10</td>\n",
       "      <td>02</td>\n",
       "      <td>875750400000000000</td>\n",
       "    </tr>\n",
       "  </tbody>\n",
       "</table>\n",
       "</div>"
      ],
      "text/plain": [
       "          id       date  quantity   cost  year month day          unix_epoch\n",
       "36525  11988 1997-10-02         1  11.49  1997    10  02  875750400000000000\n",
       "35625  11682 1997-10-02         2  24.48  1997    10  02  875750400000000000\n",
       "1674     499 1997-10-02         1   9.49  1997    10  02  875750400000000000\n",
       "58999  19710 1997-10-02         2  21.98  1997    10  02  875750400000000000\n",
       "31954  10344 1997-10-02         3  45.47  1997    10  02  875750400000000000"
      ]
     },
     "metadata": {},
     "output_type": "display_data"
    }
   ],
   "source": [
    "# first 39 weeks\n",
    "data_p1 = data.loc[data['date'] <= pd.datetime(1997, 10, 1)]\n",
    "# last 39 weaks\n",
    "data_p2 = data.loc[data['date'] > pd.datetime(1997, 10, 1)]\n",
    "display(data_p1.head())\n",
    "display(data_p2.head())\n",
    "\n",
    "# group by id for p1\n",
    "group_id_p1 = data_p1.groupby('id')\n",
    "revenue = group_id_p1['cost'].sum().rename('revenue')\n",
    "purchase = group_id_p1['quantity'].count().rename(\"purchase\")\n",
    "mean_revenue = group_id_p1['cost'].mean().rename(\"mean_revenue\")\n",
    "mean_cd = group_id_p1['quantity'].sum().rename(\"mean_cd\")\n",
    "\n",
    "train_set = pd.concat([revenue, purchase, mean_revenue, mean_cd], axis=1)"
   ]
  },
  {
   "cell_type": "code",
   "execution_count": 186,
   "metadata": {},
   "outputs": [
    {
     "data": {
      "text/html": [
       "<div>\n",
       "<style scoped>\n",
       "    .dataframe tbody tr th:only-of-type {\n",
       "        vertical-align: middle;\n",
       "    }\n",
       "\n",
       "    .dataframe tbody tr th {\n",
       "        vertical-align: top;\n",
       "    }\n",
       "\n",
       "    .dataframe thead th {\n",
       "        text-align: right;\n",
       "    }\n",
       "</style>\n",
       "<table border=\"1\" class=\"dataframe\">\n",
       "  <thead>\n",
       "    <tr style=\"text-align: right;\">\n",
       "      <th></th>\n",
       "      <th>revenue</th>\n",
       "      <th>purchase</th>\n",
       "      <th>mean_revenue</th>\n",
       "      <th>mean_cd</th>\n",
       "    </tr>\n",
       "    <tr>\n",
       "      <th>id</th>\n",
       "      <th></th>\n",
       "      <th></th>\n",
       "      <th></th>\n",
       "      <th></th>\n",
       "    </tr>\n",
       "  </thead>\n",
       "  <tbody>\n",
       "    <tr>\n",
       "      <th>1</th>\n",
       "      <td>11.77</td>\n",
       "      <td>1</td>\n",
       "      <td>11.770000</td>\n",
       "      <td>1</td>\n",
       "    </tr>\n",
       "    <tr>\n",
       "      <th>2</th>\n",
       "      <td>89.00</td>\n",
       "      <td>2</td>\n",
       "      <td>44.500000</td>\n",
       "      <td>6</td>\n",
       "    </tr>\n",
       "    <tr>\n",
       "      <th>3</th>\n",
       "      <td>61.06</td>\n",
       "      <td>3</td>\n",
       "      <td>20.353333</td>\n",
       "      <td>6</td>\n",
       "    </tr>\n",
       "    <tr>\n",
       "      <th>4</th>\n",
       "      <td>74.02</td>\n",
       "      <td>3</td>\n",
       "      <td>24.673333</td>\n",
       "      <td>5</td>\n",
       "    </tr>\n",
       "    <tr>\n",
       "      <th>5</th>\n",
       "      <td>261.21</td>\n",
       "      <td>8</td>\n",
       "      <td>32.651250</td>\n",
       "      <td>19</td>\n",
       "    </tr>\n",
       "  </tbody>\n",
       "</table>\n",
       "</div>"
      ],
      "text/plain": [
       "    revenue  purchase  mean_revenue  mean_cd\n",
       "id                                          \n",
       "1     11.77         1     11.770000        1\n",
       "2     89.00         2     44.500000        6\n",
       "3     61.06         3     20.353333        6\n",
       "4     74.02         3     24.673333        5\n",
       "5    261.21         8     32.651250       19"
      ]
     },
     "metadata": {},
     "output_type": "display_data"
    }
   ],
   "source": [
    "display(train_set.head())"
   ]
  },
  {
   "cell_type": "code",
   "execution_count": 199,
   "metadata": {},
   "outputs": [
    {
     "data": {
      "application/vnd.plotly.v1+json": {
       "config": {
        "linkText": "Export to plot.ly",
        "plotlyServerURL": "https://plot.ly",
        "showLink": true
       },
       "data": [
        {
         "colorscale": [
          [
           0,
           "rgb(247,251,255)"
          ],
          [
           0.125,
           "rgb(222,235,247)"
          ],
          [
           0.25,
           "rgb(198,219,239)"
          ],
          [
           0.375,
           "rgb(158,202,225)"
          ],
          [
           0.5,
           "rgb(107,174,214)"
          ],
          [
           0.625,
           "rgb(66,146,198)"
          ],
          [
           0.75,
           "rgb(33,113,181)"
          ],
          [
           0.875,
           "rgb(8,81,156)"
          ],
          [
           1,
           "rgb(8,48,107)"
          ]
         ],
         "type": "heatmap",
         "uid": "12ec252e-951a-4164-a5e3-783cb7deeff9",
         "x": [
          "revenue",
          "purchase",
          "mean_revenue",
          "mean_cd"
         ],
         "y": [
          "revenue",
          "purchase",
          "mean_revenue",
          "mean_cd"
         ],
         "z": [
          [
           1,
           0.771687891986372,
           0.44697796178325255,
           0.9723489587315397
          ],
          [
           0.771687891986372,
           1,
           0.07261400943685471,
           0.7904525370687969
          ],
          [
           0.44697796178325255,
           0.07261400943685471,
           1,
           0.38826861599549956
          ],
          [
           0.9723489587315397,
           0.7904525370687969,
           0.38826861599549956,
           1
          ]
         ],
         "zmax": 1,
         "zmin": 0.07261400943685471
        }
       ],
       "layout": {
        "legend": {
         "bgcolor": "#F5F6F9",
         "font": {
          "color": "#4D5663"
         }
        },
        "paper_bgcolor": "#F5F6F9",
        "plot_bgcolor": "#F5F6F9",
        "title": {
         "font": {
          "color": "#4D5663"
         },
         "text": "Feature Correlation Matrix"
        },
        "xaxis": {
         "gridcolor": "#E1E5ED",
         "showgrid": true,
         "tickfont": {
          "color": "#4D5663"
         },
         "title": {
          "font": {
           "color": "#4D5663"
          },
          "text": ""
         },
         "zerolinecolor": "#E1E5ED"
        },
        "yaxis": {
         "gridcolor": "#E1E5ED",
         "showgrid": true,
         "tickfont": {
          "color": "#4D5663"
         },
         "title": {
          "font": {
           "color": "#4D5663"
          },
          "text": ""
         },
         "zerolinecolor": "#E1E5ED"
        }
       }
      },
      "text/html": [
       "<div>\n",
       "        \n",
       "        \n",
       "            <div id=\"c2ec0f69-6a5e-475e-ba88-16910de8ccba\" class=\"plotly-graph-div\" style=\"height:525px; width:100%;\"></div>\n",
       "            <script type=\"text/javascript\">\n",
       "                require([\"plotly\"], function(Plotly) {\n",
       "                    window.PLOTLYENV=window.PLOTLYENV || {};\n",
       "                    window.PLOTLYENV.BASE_URL='https://plot.ly';\n",
       "                    \n",
       "                if (document.getElementById(\"c2ec0f69-6a5e-475e-ba88-16910de8ccba\")) {\n",
       "                    Plotly.newPlot(\n",
       "                        'c2ec0f69-6a5e-475e-ba88-16910de8ccba',\n",
       "                        [{\"colorscale\": [[0.0, \"rgb(247,251,255)\"], [0.125, \"rgb(222,235,247)\"], [0.25, \"rgb(198,219,239)\"], [0.375, \"rgb(158,202,225)\"], [0.5, \"rgb(107,174,214)\"], [0.625, \"rgb(66,146,198)\"], [0.75, \"rgb(33,113,181)\"], [0.875, \"rgb(8,81,156)\"], [1.0, \"rgb(8,48,107)\"]], \"type\": \"heatmap\", \"uid\": \"12ec252e-951a-4164-a5e3-783cb7deeff9\", \"x\": [\"revenue\", \"purchase\", \"mean_revenue\", \"mean_cd\"], \"y\": [\"revenue\", \"purchase\", \"mean_revenue\", \"mean_cd\"], \"z\": [[1.0, 0.771687891986372, 0.44697796178325255, 0.9723489587315397], [0.771687891986372, 1.0, 0.07261400943685471, 0.7904525370687969], [0.44697796178325255, 0.07261400943685471, 1.0, 0.38826861599549956], [0.9723489587315397, 0.7904525370687969, 0.38826861599549956, 1.0]], \"zmax\": 1.0, \"zmin\": 0.07261400943685471}],\n",
       "                        {\"legend\": {\"bgcolor\": \"#F5F6F9\", \"font\": {\"color\": \"#4D5663\"}}, \"paper_bgcolor\": \"#F5F6F9\", \"plot_bgcolor\": \"#F5F6F9\", \"title\": {\"font\": {\"color\": \"#4D5663\"}, \"text\": \"Feature Correlation Matrix\"}, \"xaxis\": {\"gridcolor\": \"#E1E5ED\", \"showgrid\": true, \"tickfont\": {\"color\": \"#4D5663\"}, \"title\": {\"font\": {\"color\": \"#4D5663\"}, \"text\": \"\"}, \"zerolinecolor\": \"#E1E5ED\"}, \"yaxis\": {\"gridcolor\": \"#E1E5ED\", \"showgrid\": true, \"tickfont\": {\"color\": \"#4D5663\"}, \"title\": {\"font\": {\"color\": \"#4D5663\"}, \"text\": \"\"}, \"zerolinecolor\": \"#E1E5ED\"}},\n",
       "                        {\"showLink\": true, \"linkText\": \"Export to plot.ly\", \"plotlyServerURL\": \"https://plot.ly\", \"responsive\": true}\n",
       "                    ).then(function(){\n",
       "                            \n",
       "var gd = document.getElementById('c2ec0f69-6a5e-475e-ba88-16910de8ccba');\n",
       "var x = new MutationObserver(function (mutations, observer) {{\n",
       "        var display = window.getComputedStyle(gd).display;\n",
       "        if (!display || display === 'none') {{\n",
       "            console.log([gd, 'removed!']);\n",
       "            Plotly.purge(gd);\n",
       "            observer.disconnect();\n",
       "        }}\n",
       "}});\n",
       "\n",
       "// Listen for the removal of the full notebook cells\n",
       "var notebookContainer = gd.closest('#notebook-container');\n",
       "if (notebookContainer) {{\n",
       "    x.observe(notebookContainer, {childList: true});\n",
       "}}\n",
       "\n",
       "// Listen for the clearing of the current output cell\n",
       "var outputEl = gd.closest('.output');\n",
       "if (outputEl) {{\n",
       "    x.observe(outputEl, {childList: true});\n",
       "}}\n",
       "\n",
       "                        })\n",
       "                };\n",
       "                });\n",
       "            </script>\n",
       "        </div>"
      ]
     },
     "metadata": {},
     "output_type": "display_data"
    }
   ],
   "source": [
    "train_set.corr().iplot(kind='heatmap',colorscale=\"Blues\",title=\"Feature Correlation Matrix\")\n",
    "# We can see that mean_cd is strongly correlated to other columns, \n",
    "# which means we won't be able to extract much information from it\n",
    "# So we remove it to prevent overfitting"
   ]
  },
  {
   "cell_type": "code",
   "execution_count": 206,
   "metadata": {},
   "outputs": [
    {
     "data": {
      "text/html": [
       "<div>\n",
       "<style scoped>\n",
       "    .dataframe tbody tr th:only-of-type {\n",
       "        vertical-align: middle;\n",
       "    }\n",
       "\n",
       "    .dataframe tbody tr th {\n",
       "        vertical-align: top;\n",
       "    }\n",
       "\n",
       "    .dataframe thead th {\n",
       "        text-align: right;\n",
       "    }\n",
       "</style>\n",
       "<table border=\"1\" class=\"dataframe\">\n",
       "  <thead>\n",
       "    <tr style=\"text-align: right;\">\n",
       "      <th></th>\n",
       "      <th>revenue</th>\n",
       "      <th>purchase</th>\n",
       "      <th>mean_revenue</th>\n",
       "    </tr>\n",
       "    <tr>\n",
       "      <th>id</th>\n",
       "      <th></th>\n",
       "      <th></th>\n",
       "      <th></th>\n",
       "    </tr>\n",
       "  </thead>\n",
       "  <tbody>\n",
       "    <tr>\n",
       "      <th>1</th>\n",
       "      <td>11.77</td>\n",
       "      <td>1</td>\n",
       "      <td>11.770000</td>\n",
       "    </tr>\n",
       "    <tr>\n",
       "      <th>2</th>\n",
       "      <td>89.00</td>\n",
       "      <td>2</td>\n",
       "      <td>44.500000</td>\n",
       "    </tr>\n",
       "    <tr>\n",
       "      <th>3</th>\n",
       "      <td>61.06</td>\n",
       "      <td>3</td>\n",
       "      <td>20.353333</td>\n",
       "    </tr>\n",
       "    <tr>\n",
       "      <th>4</th>\n",
       "      <td>74.02</td>\n",
       "      <td>3</td>\n",
       "      <td>24.673333</td>\n",
       "    </tr>\n",
       "    <tr>\n",
       "      <th>5</th>\n",
       "      <td>261.21</td>\n",
       "      <td>8</td>\n",
       "      <td>32.651250</td>\n",
       "    </tr>\n",
       "  </tbody>\n",
       "</table>\n",
       "</div>"
      ],
      "text/plain": [
       "    revenue  purchase  mean_revenue\n",
       "id                                 \n",
       "1     11.77         1     11.770000\n",
       "2     89.00         2     44.500000\n",
       "3     61.06         3     20.353333\n",
       "4     74.02         3     24.673333\n",
       "5    261.21         8     32.651250"
      ]
     },
     "metadata": {},
     "output_type": "display_data"
    }
   ],
   "source": [
    "train_set = train_set.drop(['mean_cd'], axis=1)\n",
    "display(train_set.head())"
   ]
  },
  {
   "cell_type": "code",
   "execution_count": 204,
   "metadata": {},
   "outputs": [
    {
     "data": {
      "application/vnd.plotly.v1+json": {
       "config": {
        "linkText": "Export to plot.ly",
        "plotlyServerURL": "https://plot.ly",
        "showLink": true
       },
       "data": [
        {
         "colorscale": [
          [
           0,
           "rgb(247,251,255)"
          ],
          [
           0.125,
           "rgb(222,235,247)"
          ],
          [
           0.25,
           "rgb(198,219,239)"
          ],
          [
           0.375,
           "rgb(158,202,225)"
          ],
          [
           0.5,
           "rgb(107,174,214)"
          ],
          [
           0.625,
           "rgb(66,146,198)"
          ],
          [
           0.75,
           "rgb(33,113,181)"
          ],
          [
           0.875,
           "rgb(8,81,156)"
          ],
          [
           1,
           "rgb(8,48,107)"
          ]
         ],
         "type": "heatmap",
         "uid": "c483632c-d1a8-4d78-a4ad-111fadc9c065",
         "x": [
          "revenue",
          "purchase",
          "mean_revenue"
         ],
         "y": [
          "revenue",
          "purchase",
          "mean_revenue"
         ],
         "z": [
          [
           1,
           0.771687891986372,
           0.44697796178325255
          ],
          [
           0.771687891986372,
           1,
           0.07261400943685471
          ],
          [
           0.44697796178325255,
           0.07261400943685471,
           1
          ]
         ],
         "zmax": 1,
         "zmin": 0.07261400943685471
        }
       ],
       "layout": {
        "legend": {
         "bgcolor": "#F5F6F9",
         "font": {
          "color": "#4D5663"
         }
        },
        "paper_bgcolor": "#F5F6F9",
        "plot_bgcolor": "#F5F6F9",
        "title": {
         "font": {
          "color": "#4D5663"
         },
         "text": "Feature Correlation Matrix"
        },
        "xaxis": {
         "gridcolor": "#E1E5ED",
         "showgrid": true,
         "tickfont": {
          "color": "#4D5663"
         },
         "title": {
          "font": {
           "color": "#4D5663"
          },
          "text": ""
         },
         "zerolinecolor": "#E1E5ED"
        },
        "yaxis": {
         "gridcolor": "#E1E5ED",
         "showgrid": true,
         "tickfont": {
          "color": "#4D5663"
         },
         "title": {
          "font": {
           "color": "#4D5663"
          },
          "text": ""
         },
         "zerolinecolor": "#E1E5ED"
        }
       }
      },
      "text/html": [
       "<div>\n",
       "        \n",
       "        \n",
       "            <div id=\"a0774bf2-ad7c-4b6e-bbac-ddc22c9d42f5\" class=\"plotly-graph-div\" style=\"height:525px; width:100%;\"></div>\n",
       "            <script type=\"text/javascript\">\n",
       "                require([\"plotly\"], function(Plotly) {\n",
       "                    window.PLOTLYENV=window.PLOTLYENV || {};\n",
       "                    window.PLOTLYENV.BASE_URL='https://plot.ly';\n",
       "                    \n",
       "                if (document.getElementById(\"a0774bf2-ad7c-4b6e-bbac-ddc22c9d42f5\")) {\n",
       "                    Plotly.newPlot(\n",
       "                        'a0774bf2-ad7c-4b6e-bbac-ddc22c9d42f5',\n",
       "                        [{\"colorscale\": [[0.0, \"rgb(247,251,255)\"], [0.125, \"rgb(222,235,247)\"], [0.25, \"rgb(198,219,239)\"], [0.375, \"rgb(158,202,225)\"], [0.5, \"rgb(107,174,214)\"], [0.625, \"rgb(66,146,198)\"], [0.75, \"rgb(33,113,181)\"], [0.875, \"rgb(8,81,156)\"], [1.0, \"rgb(8,48,107)\"]], \"type\": \"heatmap\", \"uid\": \"c483632c-d1a8-4d78-a4ad-111fadc9c065\", \"x\": [\"revenue\", \"purchase\", \"mean_revenue\"], \"y\": [\"revenue\", \"purchase\", \"mean_revenue\"], \"z\": [[1.0, 0.771687891986372, 0.44697796178325255], [0.771687891986372, 1.0, 0.07261400943685471], [0.44697796178325255, 0.07261400943685471, 1.0]], \"zmax\": 1.0, \"zmin\": 0.07261400943685471}],\n",
       "                        {\"legend\": {\"bgcolor\": \"#F5F6F9\", \"font\": {\"color\": \"#4D5663\"}}, \"paper_bgcolor\": \"#F5F6F9\", \"plot_bgcolor\": \"#F5F6F9\", \"title\": {\"font\": {\"color\": \"#4D5663\"}, \"text\": \"Feature Correlation Matrix\"}, \"xaxis\": {\"gridcolor\": \"#E1E5ED\", \"showgrid\": true, \"tickfont\": {\"color\": \"#4D5663\"}, \"title\": {\"font\": {\"color\": \"#4D5663\"}, \"text\": \"\"}, \"zerolinecolor\": \"#E1E5ED\"}, \"yaxis\": {\"gridcolor\": \"#E1E5ED\", \"showgrid\": true, \"tickfont\": {\"color\": \"#4D5663\"}, \"title\": {\"font\": {\"color\": \"#4D5663\"}, \"text\": \"\"}, \"zerolinecolor\": \"#E1E5ED\"}},\n",
       "                        {\"showLink\": true, \"linkText\": \"Export to plot.ly\", \"plotlyServerURL\": \"https://plot.ly\", \"responsive\": true}\n",
       "                    ).then(function(){\n",
       "                            \n",
       "var gd = document.getElementById('a0774bf2-ad7c-4b6e-bbac-ddc22c9d42f5');\n",
       "var x = new MutationObserver(function (mutations, observer) {{\n",
       "        var display = window.getComputedStyle(gd).display;\n",
       "        if (!display || display === 'none') {{\n",
       "            console.log([gd, 'removed!']);\n",
       "            Plotly.purge(gd);\n",
       "            observer.disconnect();\n",
       "        }}\n",
       "}});\n",
       "\n",
       "// Listen for the removal of the full notebook cells\n",
       "var notebookContainer = gd.closest('#notebook-container');\n",
       "if (notebookContainer) {{\n",
       "    x.observe(notebookContainer, {childList: true});\n",
       "}}\n",
       "\n",
       "// Listen for the clearing of the current output cell\n",
       "var outputEl = gd.closest('.output');\n",
       "if (outputEl) {{\n",
       "    x.observe(outputEl, {childList: true});\n",
       "}}\n",
       "\n",
       "                        })\n",
       "                };\n",
       "                });\n",
       "            </script>\n",
       "        </div>"
      ]
     },
     "metadata": {},
     "output_type": "display_data"
    }
   ],
   "source": [
    "train_set.corr().iplot(kind='heatmap',colorscale=\"Blues\",title=\"Feature Correlation Matrix\")"
   ]
  },
  {
   "cell_type": "code",
   "execution_count": null,
   "metadata": {},
   "outputs": [],
   "source": [
    "# It may also be interresting "
   ]
  }
 ],
 "metadata": {
  "kernelspec": {
   "display_name": "Python 3",
   "language": "python",
   "name": "python3"
  },
  "language_info": {
   "codemirror_mode": {
    "name": "ipython",
    "version": 3
   },
   "file_extension": ".py",
   "mimetype": "text/x-python",
   "name": "python",
   "nbconvert_exporter": "python",
   "pygments_lexer": "ipython3",
   "version": "3.7.4"
  }
 },
 "nbformat": 4,
 "nbformat_minor": 2
}
