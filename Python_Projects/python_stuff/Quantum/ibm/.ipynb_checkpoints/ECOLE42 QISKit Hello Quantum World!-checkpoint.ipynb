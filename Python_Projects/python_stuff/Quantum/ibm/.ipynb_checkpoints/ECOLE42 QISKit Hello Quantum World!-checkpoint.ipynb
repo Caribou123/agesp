{
 "cells": [
  {
   "cell_type": "markdown",
   "metadata": {},
   "source": [
    "# ECOLE 42 QISKit Hello Quantum World!\n",
    "\n",
    "Jean-Michel Torres 2019-04-09, IBM Q Hub France\n",
    "\n",
    "Content under Apache Licence version 2\n",
    "\n",
    "Star & Download from: https://github.com/jmit34/20190410\n",
    "\n",
    "### Content:\n",
    "<ol>\n",
    "    <li>Quantum Experience: composer overview</li>\n",
    "    <li>No QISKit: Algo Complexity</li>\n",
    "    <li>QISKit: single qubit</li>\n",
    "    <li>QISKit: multi-qbit gates</li>\n",
    "    <li>Qubits quantum states</li>\n",
    "    <li>Quantum emoticon</li>\n",
    "    <li>more quantum computing</li>\n",
    "</ol>\n"
   ]
  },
  {
   "cell_type": "markdown",
   "metadata": {},
   "source": [
    "# 1. Quantum Experience: composer demo\n",
    "\n",
    "https://youtu.be/wfsUxdYSOFs\n",
    "\n",
    "https://www.research.ibm.com/ibm-q/"
   ]
  },
  {
   "cell_type": "markdown",
   "metadata": {},
   "source": [
    "# 2. No QISKit: Algo Complexity"
   ]
  },
  {
   "cell_type": "markdown",
   "metadata": {},
   "source": [
    "### Loop, test, and Monte-Carlo"
   ]
  },
  {
   "cell_type": "code",
   "execution_count": 1,
   "metadata": {},
   "outputs": [
    {
     "name": "stdout",
     "output_type": "stream",
     "text": [
      "Total execution time: 2.1 seconds\n",
      "estimation of PI = 3.1433224\n"
     ]
    }
   ],
   "source": [
    "import time\n",
    "from random import random\n",
    "start_time = time.time()\n",
    "\n",
    "#---> calculation starts here\n",
    "iterations = 5_000_000                  # change this for accuracy vs duration \n",
    "hit = 0                                 # counter of random hits with module < 1 \n",
    "for i in range(iterations):\n",
    "    if random()**2 + random()**2 < 1:   # random(a,b) returns a pseudo random float\n",
    "        hit += 1                        # between a & b. Default : between 0 and 1 \n",
    "#---> calulation ends here\n",
    "\n",
    "end_time = time.time()\n",
    "duration = end_time - start_time\n",
    "\n",
    "print(f\"Total execution time: {duration:.1f} seconds\")\n",
    "print(f\"estimation of PI = {4 * hit / iterations}\")"
   ]
  },
  {
   "cell_type": "markdown",
   "metadata": {},
   "source": [
    "## Computing can become huge"
   ]
  },
  {
   "cell_type": "markdown",
   "metadata": {},
   "source": [
    "Sit 5 people around a table:\n",
    "<ul><li>5 choices for the first one (unless the rotation does not count),</li>\n",
    "    <li>4 choices for the second,</li>\n",
    "    <li>3 for the third... :</li></ul>\n",
    "5 x 4 x 3 x 2 x 1 = 5! = 120 \n",
    "\n",
    "Sit 10 people : 10! = 3 628 800 possibilities\n",
    "\n",
    "Sitting 100 people: "
   ]
  },
  {
   "cell_type": "code",
   "execution_count": 2,
   "metadata": {},
   "outputs": [
    {
     "name": "stdout",
     "output_type": "stream",
     "text": [
      "93326215443944152681699238856266700490715968264381621468592963895217599993229915608941463976156518286253697920827223758251185210916864000000000000000000000000\n"
     ]
    }
   ],
   "source": [
    "def factorial(n):\n",
    "    if n<2:\n",
    "        return 1\n",
    "    else:\n",
    "        return n*factorial(n-1)\n",
    " \n",
    "print(factorial(100))"
   ]
  },
  {
   "cell_type": "markdown",
   "metadata": {},
   "source": [
    "is this \"big\" ? ... see how fast the following function grows : \n",
    "\n",
    "\\begin{equation}\n",
    "x \\uparrow \\uparrow x\n",
    "\\end{equation}\n",
    "\n",
    "also noted : $\\ {x}^{x^{x}} $"
   ]
  },
  {
   "cell_type": "code",
   "execution_count": 3,
   "metadata": {},
   "outputs": [
    {
     "name": "stdout",
     "output_type": "stream",
     "text": [
      "16\n"
     ]
    }
   ],
   "source": [
    "'''\n",
    "See how fast this function grows... \n",
    "try this with a = 2, 3, 4, 5... maybe up to 7\n",
    "8 or more will be very long\n",
    "'''\n",
    "a = 2\n",
    "print(a**a**a)"
   ]
  },
  {
   "cell_type": "markdown",
   "metadata": {},
   "source": [
    "### finding the factors of a large integer"
   ]
  },
  {
   "cell_type": "code",
   "execution_count": 4,
   "metadata": {},
   "outputs": [
    {
     "name": "stdout",
     "output_type": "stream",
     "text": [
      "Total execution time: 0.000 seconds\n",
      "Loops per second 115864728208\n"
     ]
    }
   ],
   "source": [
    "import time\n",
    "from math import sqrt,floor\n",
    "\n",
    "start_time = time.time()\n",
    "# choose one (depending on your ratio patience/CPU)\n",
    "d =         6721502531819 #(~0.4 sec)  (13)\n",
    "#d =    40355369611024687 #(~30 sec)   (17)\n",
    "#d = 70552560783426882343 #(~2100 sec) (20)\n",
    "\n",
    "###################################\n",
    "## search the divisors of d here ##\n",
    "## and print them                ##\n",
    "###################################\n",
    "\n",
    "end_time = time.time()\n",
    "duration = end_time - start_time\n",
    "print(f\"Total execution time: {duration:.3f} seconds\")\n",
    "print(f\"Loops per second {i / duration:.0f}\")"
   ]
  },
  {
   "cell_type": "markdown",
   "metadata": {},
   "source": [
    "# Try it ! \n",
    "\n",
    "### Deep dive into an example : sorting data. \n",
    "\n",
    "<ul><li>a. Let's build a small duration mesurement and plotting tool</li>\n",
    "    <li>b. Try a naive sort algorithm and try to determine computational complexity.</li> \n",
    "    <li>c. Then use the QICKSORT algorithm.</li>\n",
    "    <li>d. How does pyton sort() compares ?</li>\n",
    "</ul>\n"
   ]
  },
  {
   "cell_type": "markdown",
   "metadata": {},
   "source": [
    "a. Duration plotting tool"
   ]
  },
  {
   "cell_type": "code",
   "execution_count": 5,
   "metadata": {},
   "outputs": [
    {
     "data": {
      "text/plain": [
       "[<matplotlib.lines.Line2D at 0x113bacc50>]"
      ]
     },
     "execution_count": 5,
     "metadata": {},
     "output_type": "execute_result"
    }
   ],
   "source": [
    "import matplotlib.pyplot as plt\n",
    "\n",
    "# this will be our array of problem size\n",
    "x = [1,2,3,4,5,10,20]\n",
    "\n",
    "# this will be the run duration\n",
    "y = [1,4,9,16,25,100,400]\n",
    "\n",
    "plt.plot(x,y,color=\"blue\")"
   ]
  },
  {
   "cell_type": "markdown",
   "metadata": {},
   "source": [
    "b. Now lets build a naive sorting algo: \"bubble sort\""
   ]
  },
  {
   "cell_type": "code",
   "execution_count": null,
   "metadata": {},
   "outputs": [],
   "source": [
    "import random\n",
    "\n",
    "# define a swap function : input : array, index1, index2, \n",
    "# returns array with values at index1 and index2 swapped\n",
    "\n",
    "\n",
    "\n",
    "# define n : the size of your array\n",
    "n = 10\n",
    "# define an array of n random numbers\n",
    "arr = [random.random() for i in range(n)]\n",
    "print(arr)\n",
    "\n",
    "# run n time through the array, and if the next item value is smaller than the \n",
    "# current item value : swap those items in the array. (ascending sort)\n",
    "for i in range(n):\n",
    "    for j in range(n):\n",
    "        if (arr[i] < arr[j]):\n",
    "            swap = arr[j]\n",
    "            arr[j] = arr[i]\n",
    "            arr\n",
    "## here ## \n",
    "\n",
    "print(arr)"
   ]
  },
  {
   "cell_type": "markdown",
   "metadata": {},
   "source": [
    "Reuse the bubble sort algo, implementing an exectution timer: \n",
    "Use time() function in time library to determine starting time (after the array is loaded) and ending time (after sort is done)."
   ]
  },
  {
   "cell_type": "code",
   "execution_count": null,
   "metadata": {},
   "outputs": [],
   "source": [
    "import random\n",
    "import time\n",
    "\n",
    "n= 2000\n",
    "arr = [random.random() for i in range(n)]\n",
    "start_time = time.time()\n",
    "\n",
    "## bubble sort here\n",
    "\n",
    "end_time = time.time()\n",
    "\n",
    "duration = end_time - start_time\n",
    "print(duration)"
   ]
  },
  {
   "cell_type": "markdown",
   "metadata": {},
   "source": [
    "Now build the function that inputs a size and returns the execution time for the bubble-sort. "
   ]
  },
  {
   "cell_type": "code",
   "execution_count": null,
   "metadata": {},
   "outputs": [],
   "source": [
    "import random\n",
    "import time\n",
    "\n",
    "\n",
    "def get_bubble_sort_time(n):\n",
    "  ## here ##\n",
    "\n",
    "\n",
    "print(get_bubble_sort_time(3000))"
   ]
  },
  {
   "cell_type": "markdown",
   "metadata": {},
   "source": [
    "Call this function from a list of sizes, build a list of durations, plot"
   ]
  },
  {
   "cell_type": "code",
   "execution_count": null,
   "metadata": {},
   "outputs": [],
   "source": [
    "import random\n",
    "import time\n",
    "import matplotlib.pyplot as plt\n",
    "\n",
    "## bubble sort time function here\n",
    "\n",
    "times = []\n",
    "sizes = [500,1000,2000,3000,4000,5000,6000,7000,8000]\n",
    "for n in sizes: \n",
    "    times.append(get_bubble_sort_time(n))\n",
    "\n",
    "plt.plot(sizes,times,color=\"blue\")"
   ]
  },
  {
   "cell_type": "markdown",
   "metadata": {},
   "source": [
    "c. Now to the QUICKSORT (ref. Youtube/\"The Coding Train\" April 4 2019)\n",
    "\n",
    "Quicksort was described by Tony Hoare in 1961. It is a recursive algorithm: \n",
    "<ol>\n",
    "    <li>The recursive function applies to one slice of the array to be sorted.</li>\n",
    "    <li>First call is on the whole array (from index 0 to array length)</li>\n",
    "    <li>the function has inputs: array, and 2 indexes (smaller or equal to array length)</li>\n",
    "    <li> while the 2 indexes are not equal, the function calculates a \"pivot_index\" and will then call itself twice : once for the sub-array at the left of the pivotindenx, and once for the subarray at the right</li>\n",
    "    <li> to calculate a pivotindex on the array (or a subarray):<ul>\n",
    "    <li> we move to the left part all values lower than pivotvalue (value of the last item (arbitrary choice to choose the last item) and leave the values greater the pivotvalue to it's right</li></ul>\n",
    "    </li></ol>"
   ]
  },
  {
   "cell_type": "code",
   "execution_count": null,
   "metadata": {},
   "outputs": [],
   "source": [
    "import random\n",
    "\n",
    "def swap(arr,i,j):\n",
    "    ### swaps i and j values in array a\n",
    "    t = arr[i]\n",
    "    arr[i] = arr[j]\n",
    "    arr[j] = t \n",
    "    \n",
    "def quicksort(arr, start, end):\n",
    "    if start >= end:\n",
    "        # done\n",
    "        return\n",
    "    # calculate pivot index with the partition function\n",
    "    index = partition(arr, start, end)\n",
    "    # call quicksort for both sides of the pivot index. \n",
    "    # left part\n",
    "    quicksort(arr,start,index - 1)\n",
    "    # right part\n",
    "    quicksort(arr,index + 1, end)\n",
    "\n",
    "def partition(arr,s,e):\n",
    "    # initialize pivot index to the left\n",
    "    pivotindex = s\n",
    "    # initialize pivot value to the value of the rightmost element\n",
    "    pivotvalue = arr[e]\n",
    "    # for all elements if their value is lower than pivot value\n",
    "    # put the value to the current pivotindex (left at beginning, and increment pivotindex)\n",
    "    # when this is done put the pivotvalue at the pivotindex position\n",
    "    # return that position so we can have the next iteration on left \n",
    "    # and right parts relative to the pivotindex. \n",
    "    for i in range (s,e):\n",
    "        if arr[i] < pivotvalue:\n",
    "            swap(arr,i,pivotindex)\n",
    "            pivotindex +=1\n",
    "    swap(arr,pivotindex,e)\n",
    "    return pivotindex\n",
    "\n",
    "size = 500_000\n",
    "arr = [random.random() for i in range(size)]\n",
    "size = len(arr)\n",
    "start_time = time.time()\n",
    "\n",
    "quicksort(arr, 0, size-1 )\n",
    "\n",
    "\n",
    "end_time = time.time()\n",
    "duration = end_time - start_time\n",
    "\n",
    "print(f\"Total execution time: {duration:.1f} seconds\")"
   ]
  },
  {
   "cell_type": "markdown",
   "metadata": {},
   "source": [
    "call the quicksort with a list of sizes, build a list of durations, plot"
   ]
  },
  {
   "cell_type": "code",
   "execution_count": null,
   "metadata": {},
   "outputs": [],
   "source": [
    "import random\n",
    "import time\n",
    "import matplotlib.pyplot as plt\n",
    "\n",
    "def swap(arr,i,j):\n",
    "    ### swaps i and j values in array a\n",
    "    t = arr[i]\n",
    "    arr[i] = arr[j]\n",
    "    arr[j] = t \n",
    "    \n",
    "def quicksort(arr, start, end):\n",
    "    if start >= end:\n",
    "        # done\n",
    "        return\n",
    "    # calculate pivot index with the partition function\n",
    "    index = partition(arr, start, end)\n",
    "    # call quicksort for both sides of the pivot index. \n",
    "    # left part\n",
    "    quicksort(arr,start,index - 1)\n",
    "    # right part\n",
    "    quicksort(arr,index + 1, end)\n",
    "\n",
    "def partition(arr,s,e):\n",
    "    # initialize pivot index to the left\n",
    "    pivotindex = s\n",
    "    # initialize pivot value to the value of the rightmost element\n",
    "    pivotvalue = arr[e]\n",
    "    # for all elements if their value is lower than pivot value\n",
    "    # put the value to the current pivotindex (left at beginning, and increment pivotindex)\n",
    "    # when this is done put the pivotvalue at the pivotindex position\n",
    "    # return that position so we can have the next iteration on left \n",
    "    # and right parts relative to the pivotindex. \n",
    "    for i in range (s,e):\n",
    "        if arr[i] < pivotvalue:\n",
    "            swap(arr,i,pivotindex)\n",
    "            pivotindex +=1\n",
    "    swap(arr,pivotindex,e)\n",
    "    return pivotindex\n",
    "\n",
    "def get_quicksort_time(n):\n",
    "    arr = [random.random() for i in range(n)]\n",
    "    start_time = time.time()\n",
    "    quicksort(arr,0,n-1)\n",
    "    end_time = time.time()\n",
    "    return  end_time - start_time\n",
    "\n",
    "times = []\n",
    "sizes = [50000,100000,200000,300000,400000,500000,600000,700000,800000]\n",
    "for n in sizes: \n",
    "    times.append(get_quicksort_time(n))\n",
    "\n",
    "plt.plot(sizes,times,color=\"blue\")"
   ]
  },
  {
   "cell_type": "markdown",
   "metadata": {},
   "source": [
    "Finally, see what the Python included sort() function does "
   ]
  },
  {
   "cell_type": "code",
   "execution_count": null,
   "metadata": {},
   "outputs": [],
   "source": [
    "import random\n",
    "import time\n",
    "import matplotlib.pyplot as plt\n",
    "\n",
    "def get_python_sort_time(n):\n",
    "    arr = [random.random() for i in range(n)]\n",
    "    start_time = time.time()\n",
    "    arr.sort()\n",
    "    end_time = time.time()\n",
    "    return  end_time - start_time\n",
    "\n",
    "times = []\n",
    "sizes = [50000,100000,200000,300000,400000,500000,600000,700000,800000]\n",
    "for n in sizes: \n",
    "    times.append(get_quicksort_time(n))\n",
    "\n",
    "plt.plot(sizes,times,color=\"blue\")"
   ]
  },
  {
   "cell_type": "markdown",
   "metadata": {},
   "source": [
    "# 3. QISKit: single qubit."
   ]
  },
  {
   "cell_type": "markdown",
   "metadata": {},
   "source": [
    "## <span style=\"color:red\"><em>The structure of a quantum program using single \"bit-flip\": NOT (aka X-gate)</em></span>"
   ]
  },
  {
   "cell_type": "markdown",
   "metadata": {},
   "source": [
    "#### imports\n",
    "you need to import from qiskit : \n",
    "<ul>\n",
    "    <li>QuantumRegister : to define and use qubits</li>\n",
    "    <li>ClassicalRegister : to get a \"classical\" measurement of the qubits after computation has happened</li>\n",
    "    <li>QuantumCircuit to be able to compose your calculation</li>\n",
    "    <li>execute : this will be used to actually \"run\" your circuit</li>\n",
    "</ul>    \n"
   ]
  },
  {
   "cell_type": "code",
   "execution_count": null,
   "metadata": {},
   "outputs": [],
   "source": [
    "from qiskit import QuantumRegister, ClassicalRegister, QuantumCircuit, execute"
   ]
  },
  {
   "cell_type": "markdown",
   "metadata": {},
   "source": [
    "#### define needed registers and build quantum circuit\n",
    "for example let's define `qr` as a quantum register of size 1 (will use 1 qubit)\n",
    "\n",
    "`<register_name> = QuantumRegister(size)` \n",
    "\n",
    "and let's define `cr` as a classical register with that same size. Siminal notation use ClassicalRegister constructor\n"
   ]
  },
  {
   "cell_type": "code",
   "execution_count": null,
   "metadata": {},
   "outputs": [],
   "source": [
    "# define registers here, size 1\n",
    "cr = ClassicalRegister(1)\n",
    "qr = QuantumRegister(1)"
   ]
  },
  {
   "cell_type": "markdown",
   "metadata": {},
   "source": [
    "Let's define a quantum circuit using `qc` and `cr`\n",
    "\n",
    "`<circuit> = QuantumCircuit(<quantum_register>, <classical_register>)`\n"
   ]
  },
  {
   "cell_type": "code",
   "execution_count": null,
   "metadata": {},
   "outputs": [],
   "source": [
    "# define quantum  circuit here \n",
    "my_circuit = QuantumCircuit(qr,cr)"
   ]
  },
  {
   "cell_type": "markdown",
   "metadata": {},
   "source": [
    "Then you can add a gate (in this case NOT is noted `x` gate: reverse 0 to 1 and 1 to 0, this way: \n",
    "\n",
    "`<circuit>.gate(<qubits>)`\n",
    "\n",
    "where `<circuit>` is the circuit object you have created above, and `<qubits>`is the list of qubit on which the gate applies `qr[0]` in this case.\n"
   ]
  },
  {
   "cell_type": "code",
   "execution_count": null,
   "metadata": {},
   "outputs": [],
   "source": [
    "# add identity gate here \n",
    "my_circuit.x(qr[0])"
   ]
  },
  {
   "cell_type": "markdown",
   "metadata": {},
   "source": [
    "Add another gate to your circuit, this one is special : it comes at the end and uses `qr` and `cr`\n",
    "\n",
    "`<circuit>.measure(<qr,cr>)`    \n",
    "\n",
    "this will measure the states of the qubits in the quantum register, and load values into the classical register."
   ]
  },
  {
   "cell_type": "code",
   "execution_count": null,
   "metadata": {
    "scrolled": true
   },
   "outputs": [],
   "source": [
    "# add measurement gate here \n",
    "my_circuit.measure(qr,cr)"
   ]
  },
  {
   "cell_type": "markdown",
   "metadata": {},
   "source": [
    "You can now visualize the circuit using the .draw() method on your circuit : `<circuit>.draw()`\n",
    " "
   ]
  },
  {
   "cell_type": "code",
   "execution_count": null,
   "metadata": {},
   "outputs": [],
   "source": [
    "# use draw method: \n",
    "my_circuit.draw()"
   ]
  },
  {
   "cell_type": "markdown",
   "metadata": {},
   "source": [
    "### prepare for execution\n",
    "\n",
    "Here we select on which device actual machine or simulator we will run our experiment\n",
    "Here we select the local simulator."
   ]
  },
  {
   "cell_type": "code",
   "execution_count": null,
   "metadata": {
    "scrolled": true
   },
   "outputs": [],
   "source": [
    "from qiskit import Aer\n",
    "print(Aer.backends())\n",
    "backend = Aer.get_backend('qasm_simulator')"
   ]
  },
  {
   "cell_type": "markdown",
   "metadata": {},
   "source": [
    "### execute, and read results\n",
    "\n",
    "Now we execute our experiment using the `execute` function, returning a \"job result\" object:\n",
    "\n",
    "`execute()` uses these parameters: \n",
    "<ul>\n",
    "    <li>circuit object</li>\n",
    "    <li>the device on which we execute (in our example this is stored in `backend`)</li>\n",
    "    <li>the number of \"shots\" we want to run, eg: `shots=1024`</li>\n",
    "</ul>  \n",
    "\n",
    "It goes: \n",
    "\n",
    "`<myjob> = execute(<my_circuit>,<backend>,shots=nnnn)` \n",
    "\n",
    "Then we store the result in a variable `<my_result>` using `.result()` method on the job\n",
    "\n",
    "Finally, we can print `<my_result>.get_counts(<my_circuit>)`\n"
   ]
  },
  {
   "cell_type": "code",
   "execution_count": null,
   "metadata": {
    "scrolled": true
   },
   "outputs": [],
   "source": [
    "# define job, get results\n",
    "job = execute(my_circuit,backend,shots=1024)\n",
    "my_result = job.result()\n",
    "print(my_result.get_counts(my_circuit))  "
   ]
  },
  {
   "cell_type": "code",
   "execution_count": null,
   "metadata": {
    "scrolled": false
   },
   "outputs": [],
   "source": [
    "# plot results\n",
    "from qiskit.tools.visualization import plot_histogram\n",
    "plot_histogram(my_result.get_counts(my_circuit))"
   ]
  },
  {
   "cell_type": "markdown",
   "metadata": {},
   "source": [
    "# 4. QISKit: multi-qbit gates"
   ]
  },
  {
   "cell_type": "markdown",
   "metadata": {},
   "source": [
    "## <span style=\"color:red\"><em>4.1 CNOT controlled not </em></span>\n",
    "\n",
    "### flips state of qbit b if qbit a is 1 (else leave b in original state).\n",
    "<img src=\"./images/CNOT.png\" alt=\"Note: In order for images to show up in this jupyter notebook you need to select File => Trusted Notebook\" width=\"350 px\" align=\"left\">\n",
    "\n",
    "The cnot gate is : `cx(<ctrl_qubit,target_qubit)`\n",
    "\n",
    "Don't forget to define quantum and classical registers with size 2. \n",
    "The build a quantum circuit. You can use `x` gate on qbit0 to experiment the cnot effect. "
   ]
  },
  {
   "cell_type": "code",
   "execution_count": null,
   "metadata": {},
   "outputs": [],
   "source": [
    "# define registers, size 2\n",
    "qr = QuantumRegister(2)\n",
    "cr = ClassicalRegister(2)"
   ]
  },
  {
   "cell_type": "code",
   "execution_count": null,
   "metadata": {
    "scrolled": false
   },
   "outputs": [],
   "source": [
    "# define circuit\n",
    "qc_cnot = QuantumCircuit(qr,cr)\n",
    "\n",
    "# add x on qubit0 (or not)\n",
    "\n",
    "\n",
    "# add cnot controlled bit qbit0, target qubit1\n",
    "qc_cnot.cx(qr[0],qr[1])\n",
    "# add measure\n",
    "qc_cnot.measure(qr,cr)\n",
    "# add draw\n",
    "qc_cnot.draw()"
   ]
  },
  {
   "cell_type": "code",
   "execution_count": null,
   "metadata": {},
   "outputs": [],
   "source": [
    "# execute, get results \n",
    "job = execute(qc_cnot,backend, shots=10)\n",
    "result = job.result()\n",
    "result.get_counts(qc_cnot)"
   ]
  },
  {
   "cell_type": "code",
   "execution_count": null,
   "metadata": {
    "scrolled": false
   },
   "outputs": [],
   "source": [
    "# change the value in get_count method (your circuit name)\n",
    "plot_histogram(result.get_counts(qc_cnot))"
   ]
  },
  {
   "cell_type": "markdown",
   "metadata": {},
   "source": [
    "## <span style=\"color:red\"><em>4.2 CONTROL-CONTROL-NOT Toffoli gate</em></span>\n",
    "\n",
    "### if a = 1 and b = 1, then flip c\n",
    "<img src=\"./images/Toffoli.png\" alt=\"Note: In order for images to show up in this jupyter notebook you need to select File => Trusted Notebook\" width=\"350 px\" align=\"left\">\n",
    "\n",
    "control-control-not syntax : \n",
    "\n",
    "`<circuit>.ccnot(control_qubitA, control_qubitB, taget_qubit)`"
   ]
  },
  {
   "cell_type": "code",
   "execution_count": null,
   "metadata": {},
   "outputs": [],
   "source": [
    "# define registers, size 3\n"
   ]
  },
  {
   "cell_type": "code",
   "execution_count": null,
   "metadata": {
    "scrolled": true
   },
   "outputs": [],
   "source": [
    "# define quantum circuit\n",
    "\n",
    "\n",
    "# add x on qubit0 and/or qubit 1 to view different results \n",
    "\n",
    "\n",
    "# add ccnot, measure, draw \n"
   ]
  },
  {
   "cell_type": "code",
   "execution_count": null,
   "metadata": {},
   "outputs": [],
   "source": [
    "# execute, get results, plot\n"
   ]
  },
  {
   "cell_type": "markdown",
   "metadata": {},
   "source": [
    "## <span style=\"color:red\"><em>4.3 CONTROL-SWAP : Fredkin gate</em></span>\n",
    "\n",
    "\n",
    "### if a = 1 then swap b and c states.\n",
    "<img src=\"./images/Fredkin.png\" alt=\"Note: In order for images to show up in this jupyter notebook you need to select File => Trusted Notebook\" width=\"350 px\" align=\"left\">\n",
    "Notes: \n",
    " \n",
    "<ol>\n",
    "    <li><span style=\"color:green\"><em>Fredkin gate is universal</em></span></li>\n",
    "    <li><span style=\"color:green\"><em>Quantum gates are reversible.</em></span></li>\n",
    "</ol>\n",
    "    \n",
    "\n",
    "control-swap syntax: \n",
    "\n",
    "`<circuit>.cswap(control_qubit, swapped_qubit, swapped_qubit)`"
   ]
  },
  {
   "cell_type": "code",
   "execution_count": null,
   "metadata": {
    "scrolled": true
   },
   "outputs": [],
   "source": [
    "# define registers, circuit, add X on qubit 0, and/or 1, and/or 2 to view different cases: \n",
    "\n",
    "\n",
    "#add cswap\n",
    "\n",
    "#add measure and draw\n",
    "\n"
   ]
  },
  {
   "cell_type": "code",
   "execution_count": null,
   "metadata": {
    "scrolled": true
   },
   "outputs": [],
   "source": [
    "# execute, get results, plot...\n"
   ]
  },
  {
   "cell_type": "markdown",
   "metadata": {},
   "source": [
    "## <span style=\"color:red\"><em>4.4 What does this do ?</em></span>\n",
    "\n",
    "This is a basic 2 qubits gate, can you figure out what this does ? "
   ]
  },
  {
   "cell_type": "code",
   "execution_count": null,
   "metadata": {},
   "outputs": [],
   "source": [
    "qr = QuantumRegister(2)\n",
    "cr = ClassicalRegister(2)\n",
    "mystery = QuantumCircuit(qr,cr)\n",
    "###########################\n",
    "mystery.cx(qr[0],qr[1])\n",
    "mystery.cx(qr[1],qr[0])\n",
    "mystery.cx(qr[0],qr[1])\n",
    "mystery.measure(qr,cr)\n",
    "###########################\n",
    "mystery.draw()"
   ]
  },
  {
   "cell_type": "markdown",
   "metadata": {},
   "source": [
    ".... Hint, try this (will run the above circuit against all input combinations 00,01,10,11 and will show you the result): "
   ]
  },
  {
   "cell_type": "code",
   "execution_count": null,
   "metadata": {},
   "outputs": [],
   "source": [
    "print(\"       q0 q1\")\n",
    "print(\"       -- --\")\n",
    "for i in range(4): \n",
    "    qc = QuantumCircuit(qr,cr)\n",
    "    if i%2: \n",
    "        qc.x(qr[0])\n",
    "    if i>1:\n",
    "        qc.x(qr[1])\n",
    "    # this is the same circuit as above #\n",
    "    qc.cx(qr[0],qr[1])\n",
    "    qc.cx(qr[1],qr[0])\n",
    "    qc.cx(qr[0],qr[1])\n",
    "    qc.measure(qr,cr)\n",
    "    #####################################\n",
    "    print(f\"input:  {(i>1)*1} {i%2}\")\n",
    "    job = execute(qc,backend, shots=1024)\n",
    "    result = job.result()\n",
    "    for x in (result.get_counts(qc)):\n",
    "        print(f\"output: {x[0]} {x[1]}\")\n",
    "    print(\" \")"
   ]
  },
  {
   "cell_type": "markdown",
   "metadata": {},
   "source": [
    "# 5. Qubits quantum states"
   ]
  },
  {
   "cell_type": "markdown",
   "metadata": {},
   "source": [
    "##  <span style=\"color:red\"><em>5.1 Single qbit : \"superpositon\"</em></span>"
   ]
  },
  {
   "cell_type": "markdown",
   "metadata": {},
   "source": [
    "Let's do it again : define registers (size 1), quantum circuit, add `h` gate, and `measure` gate, draw circuit. "
   ]
  },
  {
   "cell_type": "code",
   "execution_count": null,
   "metadata": {},
   "outputs": [],
   "source": [
    "qr = QuantumRegister(1)\n",
    "cr = ClassicalRegister(1)\n",
    "qc_sup = QuantumCircuit(qr,cr)\n",
    "qc_sup.h(qr[0])\n",
    "qc_sup.measure(qr,cr)\n",
    "qc_sup.draw()"
   ]
  },
  {
   "cell_type": "markdown",
   "metadata": {},
   "source": [
    "execute and get results"
   ]
  },
  {
   "cell_type": "code",
   "execution_count": null,
   "metadata": {},
   "outputs": [],
   "source": [
    "job = execute(qc_sup,backend, shots=8096)\n",
    "result = job.result()\n",
    "result.get_counts(qc_sup)\n",
    "plot_histogram(result.get_counts(qc_sup))"
   ]
  },
  {
   "cell_type": "markdown",
   "metadata": {},
   "source": [
    "<img src=\"./images/h_bloch2.png\" alt=\"Note: In order for images to show up in this jupyter notebook you need to select File => Trusted Notebook\" width=\"350 px\" align=\"left\">"
   ]
  },
  {
   "cell_type": "markdown",
   "metadata": {},
   "source": [
    "### See this page for more on what happens on the \"Bloch Sphere\" when using this and other quantum gates : https://javafxpert.github.io/grok-bloch/"
   ]
  },
  {
   "cell_type": "markdown",
   "metadata": {},
   "source": [
    "#### More on moving in the Bloch-Sphere ?"
   ]
  },
  {
   "cell_type": "code",
   "execution_count": null,
   "metadata": {},
   "outputs": [],
   "source": [
    "from math import sqrt\n",
    "from qiskit import QuantumCircuit, QuantumRegister, BasicAer, execute\n",
    "\n",
    "\n",
    "## Setting up:\n",
    "#\n",
    "num_qubits = 1\n",
    "qr = QuantumRegister(num_qubits, \"qr\")\n",
    "circ = QuantumCircuit(qr)\n",
    "\n",
    "## Building the circuit:\n",
    "#\n",
    "circ.x( qr[0] )     # inverting the first and only qubit\n",
    "\n",
    "## Printing the circuit:\n",
    "#\n",
    "print( circ.draw().single_string() )\n",
    "print(\" \")\n",
    "\n",
    "## Setting up the statevector simulator:\n",
    "#\n",
    "simulator = BasicAer.get_backend('statevector_simulator')\n",
    "\n",
    "## Running the simulator with the circuit on different input states:\n",
    "#\n",
    "input_state_zero    = [1, 0]                        # state |0>     or Z+\n",
    "input_state_one     = [0, 1]                        # state |1>     or Z-\n",
    "input_state_plus    = [1/sqrt(2),   1/sqrt(2) ]     # state |+>     or X+\n",
    "input_state_minus   = [1/sqrt(2),  -1/sqrt(2) ]     # state |->     or X-\n",
    "input_state_eye     = [1/sqrt(2),  1j/sqrt(2) ]     # state |i>     or Y+\n",
    "input_state_mye     = [1/sqrt(2), -1j/sqrt(2) ]     # state |-i>    or Y-\n",
    "\n",
    "for input_statevector in (input_state_zero, input_state_one, input_state_plus, input_state_minus, input_state_eye, input_state_mye):\n",
    "\n",
    "    print( \"Input statevector : {}\".format(input_statevector) )\n",
    "    output_statevector = list( execute(circ, simulator, backend_options={\"initial_statevector\": input_statevector}).result().get_statevector(circ) )\n",
    "    print( \"Output statevector: {}\".format(output_statevector) )\n",
    "    print(\"\")\n"
   ]
  },
  {
   "cell_type": "markdown",
   "metadata": {},
   "source": [
    "##  <span style=\"color:red\"><em>5.2 What is superposition exactly ?</em></span>\n",
    "\n",
    "Now try to build a quantum circuit, using a single qubit, use H then H again, then measure..."
   ]
  },
  {
   "cell_type": "code",
   "execution_count": null,
   "metadata": {},
   "outputs": [],
   "source": [
    "qr = QuantumRegister(1)\n",
    "cr = ClassicalRegister(1)\n",
    "qc_sup = QuantumCircuit(qr,cr)\n",
    "qc_sup.h(qr[0])\n",
    "qc_sup.h(qr[0])\n",
    "qc_sup.measure(qr,cr)\n",
    "qc_sup.draw()"
   ]
  },
  {
   "cell_type": "code",
   "execution_count": null,
   "metadata": {},
   "outputs": [],
   "source": [
    "job = execute(qc_sup,backend, shots=1024)\n",
    "result = job.result()\n",
    "result.get_counts(qc_sup)\n",
    "plot_histogram(result.get_counts(qc_sup))"
   ]
  },
  {
   "cell_type": "markdown",
   "metadata": {},
   "source": [
    "### Here is what happened ! (hope this helps :-) )\n",
    "<br>\n",
    "Let's define states |0⟩, |1⟩ as unitary basis vectors in a two dimensional space, we can write them in this form: \n",
    "\n",
    "\\begin{equation}\n",
    "|0⟩ = \n",
    "\\left(\n",
    "\\begin{array}{cc}\n",
    " 1 \\\\\n",
    " 0 \\\\\n",
    "\\end{array}\n",
    "\\right)\n",
    "\\hspace{1cm}\n",
    "|1⟩ = \n",
    "\\left(\n",
    "\\begin{array}{cc}\n",
    " 0 \\\\\n",
    " 1 \\\\\n",
    "\\end{array}\n",
    "\\right)\n",
    "\\hspace{1cm}\n",
    "\\end{equation}\n",
    "\n",
    "Then we define H (Hadamard operator) with this matrix : \n",
    "\n",
    "\n",
    "\\begin{equation}\n",
    "H = \\frac{1}{\\sqrt{2}}\n",
    "\\left(\n",
    "\\begin{array}{cc}\n",
    " 1 & 1  \\\\\n",
    " 1 & -1  \\\\\n",
    "\\end{array}\n",
    "\\right)\n",
    "\\hspace{1cm}\n",
    "\\end{equation}\n",
    "\n",
    "\n",
    "It is easy to verify that : \n",
    "\n",
    "\n",
    "\\begin{equation}\n",
    "H|0⟩ = \\frac{1}{\\sqrt{2}} \n",
    "\\left(\n",
    "\\begin{array}{cc}\n",
    " 1 \\\\\n",
    " 1 \\\\\n",
    "\\end{array}\n",
    "\\right)\n",
    "\\end{equation}\n",
    "\n",
    "\n",
    "and that : \n",
    "\n",
    "\n",
    "\\begin{equation}\n",
    "H|1⟩ = \\frac{1}{\\sqrt{2}} \n",
    "\\left(\n",
    "\\begin{array}{cc}\n",
    " 1 \\\\\n",
    " -1 \\\\\n",
    "\\end{array}\n",
    "\\right)\n",
    "\\end{equation}\n",
    "\n",
    "also, if we multiply this result again by H, we will find : \n",
    "\\begin{equation}\n",
    "HH|0⟩ =\n",
    "\\left(\n",
    "\\begin{array}{cc}\n",
    " 1 \\\\\n",
    " 0 \\\\\n",
    "\\end{array}\n",
    "\\right)\n",
    "\\end{equation}\n",
    "\n",
    "That is :\n",
    "\n",
    "\\begin{equation} \n",
    "HH|0⟩ = |0⟩\n",
    "\\end{equation}\n",
    "\n",
    "Which makes sense because it is also easy to verify that : \n",
    "\n",
    "\\begin{equation} \n",
    "H^2 = I\n",
    "\\end{equation}\n",
    "\n",
    "where:\n",
    "\n",
    "\\begin{equation}\n",
    "I = \n",
    "\\left(\n",
    "\\begin{array}{cc}\n",
    " 1 & 0 \\\\\n",
    " 0 & 1 \\\\\n",
    "\\end{array}\n",
    "\\right)\n",
    "\\end{equation}"
   ]
  },
  {
   "cell_type": "markdown",
   "metadata": {},
   "source": [
    "##  <span style=\"color:red\"><em>5.3 Multi qbit entanglement</em></span>\n",
    "\n",
    "Now build a quantum circuit using 2 qubits, start with H on qbit0 and then CNOT (q0 controlling q1): \n",
    "\n",
    "`<cicruit>.cx(qr[0],qr[1])`"
   ]
  },
  {
   "cell_type": "code",
   "execution_count": null,
   "metadata": {},
   "outputs": [],
   "source": [
    "#define registers, define curcuit, build circuit, draw.\n",
    "qr = QuantumRegister(2)\n",
    "cr = ClassicalRegister(2)\n",
    "qc_bell = QuantumCircuit(qr,cr)\n",
    "qc_bell.h(qr[0])\n",
    "qc_bell.cx(qr[0],qr[1])\n",
    "qc_bell.measure(qr,cr)\n",
    "qc_bell.draw()"
   ]
  },
  {
   "cell_type": "code",
   "execution_count": null,
   "metadata": {},
   "outputs": [],
   "source": [
    "# define, execute job and plot results\n",
    "job = execute(qc_bell,backend, shots=1024)\n",
    "result = job.result()\n",
    "result.get_counts(qc_bell)\n",
    "plot_histogram(result.get_counts(qc_bell))"
   ]
  },
  {
   "cell_type": "markdown",
   "metadata": {},
   "source": [
    "### What does this mean ? ... \n",
    "\n",
    "This is called a Bell state and can be written as : \n",
    "\n",
    "\\begin{equation} \n",
    "|Bell⟩ = \\frac{1}{\\sqrt{2}}\\left(|00⟩ + |11⟩ \\right) \n",
    "\\end{equation}\n",
    "\n",
    "Let's assume we can factor it (find two states the product of which is the Bell state), for example: \n",
    "\n",
    "\\begin{equation} \n",
    "|\\phi⟩ = a|0⟩ + (b+ic)|1⟩  \n",
    "\\end{equation}\n",
    "and \n",
    "\\begin{equation} \n",
    "|\\psi⟩ = d|0⟩ + (e+if)|1⟩  \n",
    "\\end{equation}\n",
    "\n",
    "Then: \n",
    "\\begin{equation} \n",
    "|\\phi⟩|\\psi⟩ = (ad|00⟩ + (ae + iaf)|01⟩ + (db+idc)|10⟩ + (b+ic)(e+if)|11⟩)  \n",
    "\\end{equation}\n",
    "\n",
    "As |00⟩, |01⟩, |10⟩, |11⟩ are basis vectors, we can identify:  \n",
    "\n",
    "\\begin{equation}\n",
    "ad = \\frac{1}{\\sqrt{2}}\n",
    "\\end{equation}\n",
    "\\begin{equation}\n",
    "ae + iaf = 0\n",
    "\\end{equation}\n",
    "\\begin{equation}\n",
    "db + idc = 0\n",
    "\\end{equation}\n",
    "\\begin{equation}\n",
    "be - cf + i(bf+ce) = \\frac{1}{\\sqrt{2}}\n",
    "\\end{equation}\n",
    "\n",
    "First a*d is not null so both a and d are not null. Second a complex number is equal to 0, then both is real and imaginary component are equal to 0. With a and d both not null, then e = f = b = c = 0, with that: be - cf = 0, but this does not work with : \n",
    "\\begin{equation}\n",
    "be - cf = \\frac{1}{\\sqrt{2}}\n",
    "\\end{equation}\n",
    "\n",
    "Proving that the Bell state cannot be written as a product of single qubit states. \n",
    "\n",
    "\n",
    "### ... it means we cannot know anything about the separate components of the entangled system, we can only know about the whole."
   ]
  },
  {
   "cell_type": "markdown",
   "metadata": {},
   "source": [
    "##  <span style=\"color:red\"><em>5.4 Bell state: running on actual quantum hardware</em></span>\n"
   ]
  },
  {
   "cell_type": "code",
   "execution_count": null,
   "metadata": {},
   "outputs": [],
   "source": [
    "# sign on to IBM Q Experience, get your API Token, write it in a file (eg Qconfig.py), in a line:  \n",
    "# APItoken = '<your_API_token>\n",
    "\n",
    "import Qconfig\n",
    "\n",
    "print(Qconfig.APItoken)\n",
    "#  now I can use Qconfig.APItoken to get the API key value "
   ]
  },
  {
   "cell_type": "code",
   "execution_count": null,
   "metadata": {},
   "outputs": [],
   "source": [
    "from qiskit import IBMQ\n",
    "IBMQ.enable_account(Qconfig.APItoken)"
   ]
  },
  {
   "cell_type": "code",
   "execution_count": null,
   "metadata": {},
   "outputs": [],
   "source": [
    "my_back_end = IBMQ.get_backend('ibmq_5_tenerife')\n",
    "my_back_end = IBMQ.get_backend('ibmq_16_melbourne')"
   ]
  },
  {
   "cell_type": "code",
   "execution_count": null,
   "metadata": {},
   "outputs": [],
   "source": [
    "print(my_back_end.status())"
   ]
  },
  {
   "cell_type": "code",
   "execution_count": null,
   "metadata": {
    "scrolled": false
   },
   "outputs": [],
   "source": [
    "job = execute(qc_bell,my_back_end, shots=1024)\n",
    "result = job.result()\n",
    "result.get_counts(qc_bell)\n",
    "plot_histogram(result.get_counts(qc_bell))"
   ]
  },
  {
   "cell_type": "markdown",
   "metadata": {},
   "source": [
    "##  <span style=\"color:red\"><em>5.5 Swap</em></span>\n",
    "### Swapping 2 qubits states on a real computer"
   ]
  },
  {
   "cell_type": "code",
   "execution_count": null,
   "metadata": {},
   "outputs": [],
   "source": [
    "qr = QuantumRegister(2)\n",
    "cr = ClassicalRegister(2)\n",
    "qc_swap = QuantumCircuit(qr,cr)\n",
    "###########################\n",
    "qc_swap.x(qr[0])\n",
    "qc_swap.cx(qr[0],qr[1])\n",
    "qc_swap.cx(qr[1],qr[0])\n",
    "qc_swap.cx(qr[0],qr[1])\n",
    "qc_swap.measure(qr,cr)\n",
    "###########################\n",
    "qc_swap.draw()"
   ]
  },
  {
   "cell_type": "code",
   "execution_count": null,
   "metadata": {},
   "outputs": [],
   "source": [
    "job = execute(qc_swap,my_back_end, shots=1024)\n",
    "result = job.result()\n",
    "result.get_counts(qc_swap)\n",
    "plot_histogram(result.get_counts(qc_swap))"
   ]
  },
  {
   "cell_type": "markdown",
   "metadata": {},
   "source": [
    "##  <span style=\"color:red\"><em>5.6 Bernstein-Vazirani : \"oracle\"</em></span>\n",
    "### towards quantum computing"
   ]
  },
  {
   "cell_type": "code",
   "execution_count": null,
   "metadata": {},
   "outputs": [],
   "source": [
    "q = QuantumRegister(4)\n",
    "tmp = QuantumRegister(1)\n",
    "res = ClassicalRegister(4)"
   ]
  },
  {
   "cell_type": "code",
   "execution_count": null,
   "metadata": {},
   "outputs": [],
   "source": [
    "# secret = 1101\n",
    "s = 13\n",
    "oracle = QuantumCircuit(q,tmp,res)"
   ]
  },
  {
   "cell_type": "code",
   "execution_count": null,
   "metadata": {},
   "outputs": [],
   "source": [
    "for i in range(len(q)):\n",
    "    if ( s & (1 << i) ):\n",
    "        oracle.cx(q[i],tmp[0])"
   ]
  },
  {
   "cell_type": "code",
   "execution_count": null,
   "metadata": {},
   "outputs": [],
   "source": [
    "bv = QuantumCircuit(q,tmp,res)\n",
    "bv.x(tmp[0])\n",
    "bv.h(q)\n",
    "bv.h(tmp)\n",
    "bv += oracle\n",
    "bv.h(q)\n",
    "bv.h(tmp)\n",
    "bv.measure(q,res)"
   ]
  },
  {
   "cell_type": "code",
   "execution_count": null,
   "metadata": {},
   "outputs": [],
   "source": [
    "bv.draw()"
   ]
  },
  {
   "cell_type": "code",
   "execution_count": null,
   "metadata": {},
   "outputs": [],
   "source": [
    "my_job = execute([bv], backend, shots=100)"
   ]
  },
  {
   "cell_type": "code",
   "execution_count": null,
   "metadata": {},
   "outputs": [],
   "source": [
    "my_job = execute([bv], my_back_end, shots=8192)"
   ]
  },
  {
   "cell_type": "code",
   "execution_count": null,
   "metadata": {},
   "outputs": [],
   "source": [
    "result = my_job.result()\n",
    "result.get_counts(bv)\n",
    "print(result.get_counts(bv))\n",
    "from qiskit.tools.visualization import plot_histogram\n",
    "plot_histogram (result.get_counts(bv))"
   ]
  },
  {
   "cell_type": "markdown",
   "metadata": {},
   "source": [
    "##  <span style=\"color:red\"><em>6. quantum emoticon</em></span>\n",
    "\n",
    "From qiskit tutorials (and get many more details and explanations there): \n",
    "https://github.com/Qiskit/qiskit-tutorials/blob/master/community/hello_world/quantum_emoticon.ipynb\n"
   ]
  },
  {
   "cell_type": "code",
   "execution_count": null,
   "metadata": {},
   "outputs": [],
   "source": [
    "from qiskit import ClassicalRegister, QuantumRegister\n",
    "from qiskit import QuantumCircuit, execute\n",
    "from qiskit.tools.visualization import plot_histogram\n",
    "from qiskit import IBMQ, BasicAer\n",
    "from qiskit.tools.jupyter import *\n",
    "import matplotlib.pyplot as plt\n",
    "%matplotlib inline"
   ]
  },
  {
   "cell_type": "code",
   "execution_count": null,
   "metadata": {},
   "outputs": [],
   "source": [
    "# set up registers and program\n",
    "qr = QuantumRegister(14)\n",
    "cr = ClassicalRegister(14)\n",
    "qc = QuantumCircuit(qr, cr)\n",
    "\n",
    "# rightmost seven (qu)bits have ')' = 0101001\n",
    "qc.x(qr[0])\n",
    "qc.x(qr[3])\n",
    "qc.x(qr[5])\n",
    "\n",
    "# second seven (qu)bits have superposition of\n",
    "# '8' = 0111000\n",
    "# ';' = 0111011\n",
    "# these differ only on the rightmost two bits\n",
    "qc.h(qr[8]) # create superposition on 9\n",
    "qc.cx(qr[8],qr[7]) # spread it to 8 with a CNOT\n",
    "qc.x(qr[10])\n",
    "qc.x(qr[11])\n",
    "qc.x(qr[12])\n",
    "\n",
    "# measure\n",
    "for j in range(14):\n",
    "    qc.measure(qr[j], cr[j])"
   ]
  },
  {
   "cell_type": "code",
   "execution_count": null,
   "metadata": {},
   "outputs": [],
   "source": [
    "backend = BasicAer.get_backend('qasm_simulator')\n",
    "shots_sim = 8\n",
    "\n",
    "job_sim = execute(qc, backend, shots=shots_sim)\n",
    "stats_sim = job_sim.result().get_counts()\n",
    "\n",
    "#plot_histogram(stats_sim)\n",
    "\n",
    "plt.rc('font', family='monospace')\n",
    "\n",
    "def plot_smiley (stats, shots):\n",
    "    for bitString in stats:\n",
    "        char = chr(int( bitString[0:7] ,2)) # get string of the leftmost 7 bits and convert to an ASCII character\n",
    "        char += chr(int( bitString[7:14] ,2)) # do the same for string of rightmost 7 bits, and add it to the previous character\n",
    "        prob = stats[bitString] / shots # fraction of shots for which this result occurred\n",
    "        # create plot with all characters on top of each other with alpha given by how often it turned up in the output\n",
    "        plt.annotate( char, (0.5,0.5), va=\"center\", ha=\"center\", color = (0,0,0, prob ), size = 300)\n",
    "        if (prob>0.05): # list prob and char for the dominant results (occurred for more than 5% of shots)\n",
    "            print(str(prob)+\"\\t\"+char)\n",
    "    plt.axis('off')\n",
    "    plt.show()\n",
    "    \n",
    "plot_smiley(stats_sim, shots_sim)"
   ]
  },
  {
   "cell_type": "markdown",
   "metadata": {},
   "source": [
    "# 7. More quantum computing"
   ]
  },
  {
   "cell_type": "markdown",
   "metadata": {},
   "source": [
    "## <a href=\"https://www.research.ibm.com/ibm-q/\">IBM Q informations, resources</a>\n",
    "\n",
    "<img src=\"./images/IBMQ.png\" alt=\"Note: In order for images to show up in this jupyter notebook you need to select File => Trusted Notebook\" width=\"800 px\" align=\"left\">\n"
   ]
  },
  {
   "cell_type": "markdown",
   "metadata": {},
   "source": [
    "### <a href=\"https://qiskit.org/\">QISKit : documentations, tutorials, GitHub</a>\n",
    "\n",
    "<img src=\"./images/qiskitOrg.png\" alt=\"Note: In order for images to show up in this jupyter notebook you need to select File => Trusted Notebook\" width=\"800 px\" align=\"left\">\n",
    "\n"
   ]
  },
  {
   "cell_type": "markdown",
   "metadata": {},
   "source": [
    "## <a href=\"https://www.youtube.com/channel/UClBNq7mCMf5xm8baE_VMl3A\">QISKit channel on Youtube</a>\n",
    "<img src=\"./images/qiskitYoutube.png\" alt=\"Note: In order for images to show up in this jupyter notebook you need to select File => Trusted Notebook\" width=\"800 px\" align=\"left\">\n"
   ]
  },
  {
   "cell_type": "markdown",
   "metadata": {},
   "source": [
    "### <a href=\"https://fr.wikipedia.org/wiki/Calculateur_quantique\">Wikipedia: Calculateur Quantique</a>\n",
    "<img src=\"./images/QCWikipedia.png\" alt=\"Note: In order for images to show up in this jupyter notebook you need to select File => Trusted Notebook\" width=\"800 px\" align=\"left\">"
   ]
  },
  {
   "cell_type": "markdown",
   "metadata": {},
   "source": [
    "## Isaac Chuang & Peter Shor, Quantum Information Science I, Part 1\n",
    "### Edx MOOC\n",
    "<br>\n",
    "<img src=\"./images/MOOCedX.png\" alt=\"Note: In order for images to show up in this jupyter notebook you need to select File => Trusted Notebook\" width=\"800 px\" align=\"center\">\n",
    "<br>"
   ]
  },
  {
   "cell_type": "markdown",
   "metadata": {},
   "source": [
    "## Leonard Susskind, Art Freidman: Mécanique Quantique, Le minimum Théorique\n",
    "### Presses polytechniques et universitaires romandes\n",
    "<br>\n",
    "<img src=\"./images/susskindFriedman.jpg\" alt=\"Note: In order for images to show up in this jupyter notebook you need to select File => Trusted Notebook\" width=\"400 px\" align=\"center\">\n",
    "<br>"
   ]
  },
  {
   "cell_type": "markdown",
   "metadata": {},
   "source": [
    "## David McMahon, Quantum Computing Explained \n",
    "### Wiley\n",
    "<br>\n",
    "<img src=\"./images/mcmahon.jpg\" alt=\"Note: In order for images to show up in this jupyter notebook you need to select File => Trusted Notebook\" width=\"400 px\" align=\"center\">\n",
    "<br>"
   ]
  },
  {
   "cell_type": "markdown",
   "metadata": {},
   "source": [
    "### David Mermin, Calculs et Algorithmes Quantiques, \n",
    "#### EDP Sciences, CNRS Editions\n",
    "<br>\n",
    "<img src=\"./images/mermin.jpg\" alt=\"Note: In order for images to show up in this jupyter notebook you need to select File => Trusted Notebook\" width=\"400 px\" align=\"center\">\n",
    "<br>"
   ]
  },
  {
   "cell_type": "markdown",
   "metadata": {},
   "source": [
    "## Charles Corge, L'informatique Quantique, qu'est-ce et pour quoi faire ? \n",
    "### Ellipses\n",
    "<br>\n",
    "<img src=\"./images/corge.jpeg\" alt=\"Note: In order for images to show up in this jupyter notebook you need to select File => Trusted Notebook\" width=\"400 px\" align=\"center\">\n",
    "<br>"
   ]
  },
  {
   "cell_type": "markdown",
   "metadata": {},
   "source": [
    "## Michael A. Nielsen and Isaac L. Chuang : Quantum Computation and Quantum Information\n",
    "### Cambridge\n",
    "<br>\n",
    "<img src=\"./images/nielsenChuang.jpg\" alt=\"Note: In order for images to show up in this jupyter notebook you need to select File => Trusted Notebook\" width=\"400 px\" align=\"center\">\n",
    "<br>"
   ]
  }
 ],
 "metadata": {
  "kernelspec": {
   "display_name": "Python 3",
   "language": "python",
   "name": "python3"
  },
  "language_info": {
   "codemirror_mode": {
    "name": "ipython",
    "version": 3
   },
   "file_extension": ".py",
   "mimetype": "text/x-python",
   "name": "python",
   "nbconvert_exporter": "python",
   "pygments_lexer": "ipython3",
   "version": "3.7.1"
  }
 },
 "nbformat": 4,
 "nbformat_minor": 2
}
