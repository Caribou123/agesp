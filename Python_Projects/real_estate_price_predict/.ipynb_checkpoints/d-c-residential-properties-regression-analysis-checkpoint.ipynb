{
 "cells": [
  {
   "cell_type": "code",
   "execution_count": 3,
   "metadata": {
    "_cell_guid": "b1076dfc-b9ad-4769-8c92-a6c4dae69d19",
    "_uuid": "8f2839f25d086af736a60e9eeb907d3b93b6e0e5"
   },
   "outputs": [],
   "source": [
    "# This Python 3 environment comes with many helpful analytics libraries installed\n",
    "# It is defined by the kaggle/python docker image: https://github.com/kaggle/docker-python\n",
    "# For example, here's several helpful packages to load in \n",
    "\n",
    "import numpy as np # linear algebra\n",
    "import pandas as pd # data processing, CSV file I/O (e.g. pd.read_csv)\n",
    "\n",
    "# Input data files are available in the \"../input/\" directory.\n",
    "# For example, running this (by clicking run or pressing Shift+Enter) will list the files in the input directory\n",
    "\n",
    "import os\n",
    "# print(os.listdir(\"../input\"))\n",
    "\n",
    "import seaborn as sns\n",
    "import matplotlib.pyplot as plt\n",
    "\n",
    "from scipy import stats\n",
    "from scipy.stats.stats import pearsonr\n",
    "from scipy.stats import norm\n",
    "\n",
    "from scipy.stats import skew\n",
    "\n",
    "sns.set(style='white', context='notebook', palette='deep')\n",
    "\n",
    "\n",
    "\n",
    "# Any results you write to the current directory are saved as output."
   ]
  },
  {
   "cell_type": "markdown",
   "metadata": {
    "_cell_guid": "79c7e3d0-c299-4dcb-8224-4455121ee9b0",
    "_uuid": "d629ff2d2480ee46fbb7e2d37f6b5fab8052498a",
    "collapsed": true
   },
   "source": [
    "**Importing the dataset**\n"
   ]
  },
  {
   "cell_type": "code",
   "execution_count": 4,
   "metadata": {
    "_uuid": "58c95f1d782852516ed592601bdbbb97d976acd4"
   },
   "outputs": [
    {
     "name": "stderr",
     "output_type": "stream",
     "text": [
      "/Users/agesp/.brew/lib/python3.7/site-packages/IPython/core/interactiveshell.py:3057: DtypeWarning: Columns (18,19,20,21,22,23,24,33,34,35,37,43,45) have mixed types. Specify dtype option on import or set low_memory=False.\n",
      "  interactivity=interactivity, compiler=compiler, result=result)\n"
     ]
    },
    {
     "data": {
      "text/html": [
       "<div>\n",
       "<style scoped>\n",
       "    .dataframe tbody tr th:only-of-type {\n",
       "        vertical-align: middle;\n",
       "    }\n",
       "\n",
       "    .dataframe tbody tr th {\n",
       "        vertical-align: top;\n",
       "    }\n",
       "\n",
       "    .dataframe thead th {\n",
       "        text-align: right;\n",
       "    }\n",
       "</style>\n",
       "<table border=\"1\" class=\"dataframe\">\n",
       "  <thead>\n",
       "    <tr style=\"text-align: right;\">\n",
       "      <th></th>\n",
       "      <th>Unnamed: 0</th>\n",
       "      <th>BATHRM</th>\n",
       "      <th>HF_BATHRM</th>\n",
       "      <th>HEAT</th>\n",
       "      <th>AC</th>\n",
       "      <th>NUM_UNITS</th>\n",
       "      <th>ROOMS</th>\n",
       "      <th>BEDRM</th>\n",
       "      <th>AYB</th>\n",
       "      <th>YR_RMDL</th>\n",
       "      <th>...</th>\n",
       "      <th>LONGITUDE</th>\n",
       "      <th>ASSESSMENT_NBHD</th>\n",
       "      <th>ASSESSMENT_SUBNBHD</th>\n",
       "      <th>CENSUS_TRACT</th>\n",
       "      <th>CENSUS_BLOCK</th>\n",
       "      <th>WARD</th>\n",
       "      <th>SQUARE</th>\n",
       "      <th>X</th>\n",
       "      <th>Y</th>\n",
       "      <th>QUADRANT</th>\n",
       "    </tr>\n",
       "  </thead>\n",
       "  <tbody>\n",
       "    <tr>\n",
       "      <th>0</th>\n",
       "      <td>0</td>\n",
       "      <td>4</td>\n",
       "      <td>0</td>\n",
       "      <td>Warm Cool</td>\n",
       "      <td>Y</td>\n",
       "      <td>2.0</td>\n",
       "      <td>8</td>\n",
       "      <td>4</td>\n",
       "      <td>1910.0</td>\n",
       "      <td>1988.0</td>\n",
       "      <td>...</td>\n",
       "      <td>-77.040832</td>\n",
       "      <td>Old City 2</td>\n",
       "      <td>040 D Old City 2</td>\n",
       "      <td>4201.0</td>\n",
       "      <td>004201 2006</td>\n",
       "      <td>Ward 2</td>\n",
       "      <td>152</td>\n",
       "      <td>-77.040429</td>\n",
       "      <td>38.914881</td>\n",
       "      <td>NW</td>\n",
       "    </tr>\n",
       "    <tr>\n",
       "      <th>1</th>\n",
       "      <td>1</td>\n",
       "      <td>3</td>\n",
       "      <td>1</td>\n",
       "      <td>Warm Cool</td>\n",
       "      <td>Y</td>\n",
       "      <td>2.0</td>\n",
       "      <td>11</td>\n",
       "      <td>5</td>\n",
       "      <td>1898.0</td>\n",
       "      <td>2007.0</td>\n",
       "      <td>...</td>\n",
       "      <td>-77.040764</td>\n",
       "      <td>Old City 2</td>\n",
       "      <td>040 D Old City 2</td>\n",
       "      <td>4201.0</td>\n",
       "      <td>004201 2006</td>\n",
       "      <td>Ward 2</td>\n",
       "      <td>152</td>\n",
       "      <td>-77.040429</td>\n",
       "      <td>38.914881</td>\n",
       "      <td>NW</td>\n",
       "    </tr>\n",
       "    <tr>\n",
       "      <th>2</th>\n",
       "      <td>2</td>\n",
       "      <td>3</td>\n",
       "      <td>1</td>\n",
       "      <td>Hot Water Rad</td>\n",
       "      <td>Y</td>\n",
       "      <td>2.0</td>\n",
       "      <td>9</td>\n",
       "      <td>5</td>\n",
       "      <td>1910.0</td>\n",
       "      <td>2009.0</td>\n",
       "      <td>...</td>\n",
       "      <td>-77.040678</td>\n",
       "      <td>Old City 2</td>\n",
       "      <td>040 D Old City 2</td>\n",
       "      <td>4201.0</td>\n",
       "      <td>004201 2006</td>\n",
       "      <td>Ward 2</td>\n",
       "      <td>152</td>\n",
       "      <td>-77.040429</td>\n",
       "      <td>38.914881</td>\n",
       "      <td>NW</td>\n",
       "    </tr>\n",
       "    <tr>\n",
       "      <th>3</th>\n",
       "      <td>3</td>\n",
       "      <td>3</td>\n",
       "      <td>1</td>\n",
       "      <td>Hot Water Rad</td>\n",
       "      <td>Y</td>\n",
       "      <td>2.0</td>\n",
       "      <td>8</td>\n",
       "      <td>5</td>\n",
       "      <td>1900.0</td>\n",
       "      <td>2003.0</td>\n",
       "      <td>...</td>\n",
       "      <td>-77.040629</td>\n",
       "      <td>Old City 2</td>\n",
       "      <td>040 D Old City 2</td>\n",
       "      <td>4201.0</td>\n",
       "      <td>004201 2006</td>\n",
       "      <td>Ward 2</td>\n",
       "      <td>152</td>\n",
       "      <td>-77.040429</td>\n",
       "      <td>38.914881</td>\n",
       "      <td>NW</td>\n",
       "    </tr>\n",
       "    <tr>\n",
       "      <th>4</th>\n",
       "      <td>4</td>\n",
       "      <td>2</td>\n",
       "      <td>1</td>\n",
       "      <td>Warm Cool</td>\n",
       "      <td>Y</td>\n",
       "      <td>1.0</td>\n",
       "      <td>11</td>\n",
       "      <td>3</td>\n",
       "      <td>1913.0</td>\n",
       "      <td>2012.0</td>\n",
       "      <td>...</td>\n",
       "      <td>-77.039361</td>\n",
       "      <td>Old City 2</td>\n",
       "      <td>040 D Old City 2</td>\n",
       "      <td>4201.0</td>\n",
       "      <td>004201 2006</td>\n",
       "      <td>Ward 2</td>\n",
       "      <td>152</td>\n",
       "      <td>-77.040429</td>\n",
       "      <td>38.914881</td>\n",
       "      <td>NW</td>\n",
       "    </tr>\n",
       "  </tbody>\n",
       "</table>\n",
       "<p>5 rows × 49 columns</p>\n",
       "</div>"
      ],
      "text/plain": [
       "   Unnamed: 0  BATHRM  HF_BATHRM           HEAT AC  NUM_UNITS  ROOMS  BEDRM  \\\n",
       "0           0       4          0      Warm Cool  Y        2.0      8      4   \n",
       "1           1       3          1      Warm Cool  Y        2.0     11      5   \n",
       "2           2       3          1  Hot Water Rad  Y        2.0      9      5   \n",
       "3           3       3          1  Hot Water Rad  Y        2.0      8      5   \n",
       "4           4       2          1      Warm Cool  Y        1.0     11      3   \n",
       "\n",
       "      AYB  YR_RMDL  ...  LONGITUDE  ASSESSMENT_NBHD ASSESSMENT_SUBNBHD  \\\n",
       "0  1910.0   1988.0  ... -77.040832       Old City 2   040 D Old City 2   \n",
       "1  1898.0   2007.0  ... -77.040764       Old City 2   040 D Old City 2   \n",
       "2  1910.0   2009.0  ... -77.040678       Old City 2   040 D Old City 2   \n",
       "3  1900.0   2003.0  ... -77.040629       Old City 2   040 D Old City 2   \n",
       "4  1913.0   2012.0  ... -77.039361       Old City 2   040 D Old City 2   \n",
       "\n",
       "   CENSUS_TRACT CENSUS_BLOCK    WARD  SQUARE          X          Y QUADRANT  \n",
       "0        4201.0  004201 2006  Ward 2     152 -77.040429  38.914881       NW  \n",
       "1        4201.0  004201 2006  Ward 2     152 -77.040429  38.914881       NW  \n",
       "2        4201.0  004201 2006  Ward 2     152 -77.040429  38.914881       NW  \n",
       "3        4201.0  004201 2006  Ward 2     152 -77.040429  38.914881       NW  \n",
       "4        4201.0  004201 2006  Ward 2     152 -77.040429  38.914881       NW  \n",
       "\n",
       "[5 rows x 49 columns]"
      ]
     },
     "execution_count": 4,
     "metadata": {},
     "output_type": "execute_result"
    }
   ],
   "source": [
    "dataset = pd.read_csv('real_estate.csv')\n",
    "dataset.head()"
   ]
  },
  {
   "cell_type": "markdown",
   "metadata": {
    "_uuid": "4ae7ef149d0150cd639ae8780800a4390bfb9b19"
   },
   "source": [
    "**a.\tSplit the data into 3 parts – training_data, test_data and unknown_data**"
   ]
  },
  {
   "cell_type": "code",
   "execution_count": 5,
   "metadata": {
    "_uuid": "1646fe5113b5506cda0a9ca97dfa9f6d3e1fd545"
   },
   "outputs": [
    {
     "data": {
      "text/plain": [
       "(60741, 50)"
      ]
     },
     "execution_count": 5,
     "metadata": {},
     "output_type": "execute_result"
    }
   ],
   "source": [
    "#dataset.isnull().sum()\n",
    "\n",
    "dummy_dataset = dataset\n",
    "\n",
    "dummy_dataset['Price_Flag'] = np.where(dummy_dataset.PRICE > 0 , 1,0)\n",
    "\n",
    "unknown_dataset = dummy_dataset[dummy_dataset.Price_Flag != 1]\n",
    "\n",
    "unknown_dataset.shape"
   ]
  },
  {
   "cell_type": "code",
   "execution_count": 6,
   "metadata": {
    "_uuid": "be762ad5c35befdc1cd50163a01d693de0b275ff"
   },
   "outputs": [],
   "source": [
    "from sklearn.model_selection import train_test_split\n",
    "\n",
    "dataset = dummy_dataset[dummy_dataset.Price_Flag != 0]\n"
   ]
  },
  {
   "cell_type": "markdown",
   "metadata": {
    "_uuid": "03c945758f80357bfce92f12ad9c769f82edc84c"
   },
   "source": [
    "**Data Cleaning and Handling Outliers**"
   ]
  },
  {
   "cell_type": "code",
   "execution_count": 7,
   "metadata": {
    "_uuid": "c30a5c3cfe5f05849047cbd5891d82d4cf536e78"
   },
   "outputs": [
    {
     "data": {
      "text/plain": [
       "Unnamed: 0            0\n",
       "BATHRM                0\n",
       "HF_BATHRM             0\n",
       "HEAT                  0\n",
       "AC                    0\n",
       "NUM_UNITS             0\n",
       "ROOMS                 0\n",
       "BEDRM                 0\n",
       "AYB                   0\n",
       "YR_RMDL               0\n",
       "EYB                   0\n",
       "STORIES               0\n",
       "PRICE                 0\n",
       "QUALIFIED             0\n",
       "SALE_NUM              0\n",
       "GBA                   0\n",
       "BLDG_NUM              0\n",
       "STYLE                 0\n",
       "STRUCT                0\n",
       "GRADE                 0\n",
       "CNDTN                 0\n",
       "EXTWALL               0\n",
       "ROOF                  0\n",
       "INTWALL               0\n",
       "KITCHENS              0\n",
       "FIREPLACES            0\n",
       "USECODE               0\n",
       "LANDAREA              0\n",
       "GIS_LAST_MOD_DTTM     0\n",
       "SOURCE                0\n",
       "LIVING_GBA            0\n",
       "ZIPCODE               0\n",
       "LATITUDE              0\n",
       "ASSESSMENT_NBHD       0\n",
       "ASSESSMENT_SUBNBHD    0\n",
       "CENSUS_TRACT          0\n",
       "WARD                  0\n",
       "SQUARE                0\n",
       "dtype: int64"
      ]
     },
     "execution_count": 7,
     "metadata": {},
     "output_type": "execute_result"
    }
   ],
   "source": [
    "dataset = dataset.drop(['Price_Flag','X','Y','CMPLX_NUM','FULLADDRESS','LONGITUDE','CITY','STATE','NATIONALGRID','CENSUS_BLOCK','SALEDATE','QUADRANT'],axis=1)\n",
    "\n",
    "dataset.GBA = dataset.GBA.fillna(dataset.GBA.mean())\n",
    "\n",
    "dataset.AYB = dataset.AYB.fillna(dataset.AYB.median())\n",
    "\n",
    "dataset.STORIES = dataset.STORIES.fillna(dataset.STORIES.median())\n",
    "\n",
    "dataset.KITCHENS = dataset.KITCHENS.fillna(dataset.KITCHENS.median())\n",
    "\n",
    "dataset.NUM_UNITS = dataset.NUM_UNITS.fillna(dataset.NUM_UNITS.median())\n",
    "\n",
    "dataset.YR_RMDL = dataset.YR_RMDL.fillna(dataset.YR_RMDL.median())\n",
    "\n",
    "dataset.LIVING_GBA = dataset.LIVING_GBA.fillna(dataset.LIVING_GBA.mean())\n",
    "\n",
    "dataset.STYLE = dataset.STYLE.fillna(dataset.STYLE.mode()[0])\n",
    "\n",
    "dataset.STRUCT = dataset.STRUCT.fillna(dataset.STRUCT.mode()[0])\n",
    "\n",
    "dataset.GRADE = dataset.GRADE.fillna(dataset.GRADE.mode()[0])\n",
    "\n",
    "dataset.CNDTN = dataset.CNDTN.fillna(dataset.CNDTN.mode()[0])\n",
    "\n",
    "dataset.EXTWALL = dataset.EXTWALL.fillna(dataset.EXTWALL.mode()[0])\n",
    "\n",
    "dataset.ROOF = dataset.ROOF.fillna(dataset.ROOF.mode()[0])\n",
    "\n",
    "dataset.INTWALL = dataset.INTWALL.fillna(dataset.INTWALL.mode()[0])\n",
    "\n",
    "dataset.ASSESSMENT_SUBNBHD  = dataset.ASSESSMENT_SUBNBHD.fillna(dataset.ASSESSMENT_SUBNBHD.mode()[0])\n",
    "\n",
    "dataset.isnull().sum()\n",
    "\n"
   ]
  },
  {
   "cell_type": "markdown",
   "metadata": {
    "_uuid": "ec869ef46eb1b799816fe80a4a961fc42d2dddfb"
   },
   "source": [
    "**Splitting the dataset to Test and Train after Cleaning and Data Handling**"
   ]
  },
  {
   "cell_type": "code",
   "execution_count": 8,
   "metadata": {
    "_uuid": "42d5654a0a5f45f70f76fa10a22fa616a1931698"
   },
   "outputs": [
    {
     "name": "stdout",
     "output_type": "stream",
     "text": [
      "Total Features:  16 categorical + 21 numerical = 37 features\n"
     ]
    }
   ],
   "source": [
    "train_dataset = dataset\n",
    "\n",
    "train_dataset = train_dataset.drop('Unnamed: 0',axis =1)\n",
    "\n",
    "cat = len(train_dataset.select_dtypes(include=['object']).columns)\n",
    "num = len(train_dataset.select_dtypes(include=['int64','float64']).columns)\n",
    "print('Total Features: ', cat, 'categorical', '+',\n",
    "      num, 'numerical', '=', cat+num, 'features')"
   ]
  },
  {
   "cell_type": "markdown",
   "metadata": {
    "_uuid": "1eeaa8fb9daa7777f0adbfbddadf589e844be8ff"
   },
   "source": [
    "1. **With 39 features, we cant possibly tell which feature is most related to house prices. so we find the correlation of the Price of the house with every other variables**"
   ]
  },
  {
   "cell_type": "code",
   "execution_count": 9,
   "metadata": {
    "_uuid": "b8a7abe762111fdc58e80eb1d8e27600232408ab"
   },
   "outputs": [
    {
     "data": {
      "image/png": "[encoded data removed]",
      "text/plain": [
       "<Figure size 864x648 with 2 Axes>"
      ]
     },
     "metadata": {
      "needs_background": "light"
     },
     "output_type": "display_data"
    }
   ],
   "source": [
    "corrmat = train_dataset.corr()\n",
    "f, ax = plt.subplots(figsize=(12, 9))\n",
    "sns.heatmap(corrmat, vmax=.8, square=True);"
   ]
  },
  {
   "cell_type": "markdown",
   "metadata": {
    "_uuid": "f3f9341348137c6f55b11f2ce19ae9927339d0a6"
   },
   "source": [
    "**Finding the top 10 Independent factors that contribute to the Price of the house**"
   ]
  },
  {
   "cell_type": "code",
   "execution_count": 10,
   "metadata": {
    "_uuid": "afff6441499b2aa2f5df95b3ed8ca5c0891aeed1"
   },
   "outputs": [
    {
     "data": {
      "image/png": "[encoded data removed]",
      "text/plain": [
       "<Figure size 432x288 with 2 Axes>"
      ]
     },
     "metadata": {},
     "output_type": "display_data"
    }
   ],
   "source": [
    "k = 11 #number of variables for heatmap\n",
    "cols = corrmat.nlargest(k, 'PRICE')['PRICE'].index\n",
    "cm = np.corrcoef(train_dataset[cols].values.T)\n",
    "sns.set(font_scale=1.00)\n",
    "hm = sns.heatmap(cm, cbar=True, annot=True, square=True, fmt='.2f', annot_kws={'size': 10}, yticklabels=cols.values, xticklabels=cols.values)\n",
    "plt.show()"
   ]
  },
  {
   "cell_type": "code",
   "execution_count": 11,
   "metadata": {
    "_uuid": "2c1b649b7afcf77a0ee73d0050a407da8db1fa80"
   },
   "outputs": [
    {
     "data": {
      "text/html": [
       "<div>\n",
       "<style scoped>\n",
       "    .dataframe tbody tr th:only-of-type {\n",
       "        vertical-align: middle;\n",
       "    }\n",
       "\n",
       "    .dataframe tbody tr th {\n",
       "        vertical-align: top;\n",
       "    }\n",
       "\n",
       "    .dataframe thead th {\n",
       "        text-align: right;\n",
       "    }\n",
       "</style>\n",
       "<table border=\"1\" class=\"dataframe\">\n",
       "  <thead>\n",
       "    <tr style=\"text-align: right;\">\n",
       "      <th></th>\n",
       "      <th>Most Correlated Features</th>\n",
       "    </tr>\n",
       "  </thead>\n",
       "  <tbody>\n",
       "    <tr>\n",
       "      <th>0</th>\n",
       "      <td>PRICE</td>\n",
       "    </tr>\n",
       "    <tr>\n",
       "      <th>1</th>\n",
       "      <td>AYB</td>\n",
       "    </tr>\n",
       "    <tr>\n",
       "      <th>2</th>\n",
       "      <td>EYB</td>\n",
       "    </tr>\n",
       "    <tr>\n",
       "      <th>3</th>\n",
       "      <td>LATITUDE</td>\n",
       "    </tr>\n",
       "    <tr>\n",
       "      <th>4</th>\n",
       "      <td>GBA</td>\n",
       "    </tr>\n",
       "    <tr>\n",
       "      <th>5</th>\n",
       "      <td>USECODE</td>\n",
       "    </tr>\n",
       "    <tr>\n",
       "      <th>6</th>\n",
       "      <td>FIREPLACES</td>\n",
       "    </tr>\n",
       "    <tr>\n",
       "      <th>7</th>\n",
       "      <td>YR_RMDL</td>\n",
       "    </tr>\n",
       "    <tr>\n",
       "      <th>8</th>\n",
       "      <td>BLDG_NUM</td>\n",
       "    </tr>\n",
       "    <tr>\n",
       "      <th>9</th>\n",
       "      <td>STORIES</td>\n",
       "    </tr>\n",
       "    <tr>\n",
       "      <th>10</th>\n",
       "      <td>ZIPCODE</td>\n",
       "    </tr>\n",
       "  </tbody>\n",
       "</table>\n",
       "</div>"
      ],
      "text/plain": [
       "   Most Correlated Features\n",
       "0                     PRICE\n",
       "1                       AYB\n",
       "2                       EYB\n",
       "3                  LATITUDE\n",
       "4                       GBA\n",
       "5                   USECODE\n",
       "6                FIREPLACES\n",
       "7                   YR_RMDL\n",
       "8                  BLDG_NUM\n",
       "9                   STORIES\n",
       "10                  ZIPCODE"
      ]
     },
     "execution_count": 11,
     "metadata": {},
     "output_type": "execute_result"
    }
   ],
   "source": [
    "most_corr = pd.DataFrame(cols)\n",
    "most_corr.columns = ['Most Correlated Features']\n",
    "most_corr"
   ]
  },
  {
   "cell_type": "markdown",
   "metadata": {
    "_uuid": "fb225b75eccf8d043013a87a00d32f042db4a3d5"
   },
   "source": [
    "**The above are the list of Top  Variables (Independent Factors) with postive correlation to the house price that contribute to the Price of the house**\n",
    "\n",
    "GBA -  Gross building area in square feet\n",
    "\n",
    "AYB - The earliest time the main portion of the building was built\n",
    "\n",
    "EYB - The year an improvement was built more recent than actual year built\n",
    "\n",
    "Latitude - The location of the propert\n",
    "\n",
    "Kitchens - Number of kitchens\n",
    "\n",
    "Stories - Number of stories in primary dwelling\n",
    "\n",
    "Yr_Model - Year structure was remodeled\n",
    "\n"
   ]
  },
  {
   "cell_type": "code",
   "execution_count": null,
   "metadata": {
    "_uuid": "2f90837f6a5843d1ea3150e360db507a8087e22f"
   },
   "outputs": [],
   "source": [
    "# Gross Building Area vs  Price\n",
    "\n",
    "sns.jointplot(x=train_dataset['GBA'], y=train_dataset['PRICE'], kind='reg')"
   ]
  },
  {
   "cell_type": "markdown",
   "metadata": {
    "_uuid": "a580c2ebbda26dcc031fc128e67044a5d1f74c41"
   },
   "source": [
    "**It makes sense that people would pay for the more living area. **"
   ]
  },
  {
   "cell_type": "code",
   "execution_count": null,
   "metadata": {
    "_uuid": "e6fde629d3cc88f602e7cc291c44c7c584fdb35b"
   },
   "outputs": [],
   "source": [
    "# AYB vs  Price\n",
    "\n",
    "var = 'AYB'\n",
    "data = pd.concat([train_dataset['PRICE'], train_dataset[var]], axis=1)\n",
    "f, ax = plt.subplots(figsize=(16, 8))\n",
    "fig = sns.boxplot(x=var, y=\"PRICE\", data=data)\n",
    "fig.axis(ymin=0, ymax=2000000);\n",
    "plt.xticks(rotation=90);"
   ]
  },
  {
   "cell_type": "markdown",
   "metadata": {
    "_uuid": "350e381c2ed57fa9a65dc9cb01cd8fb51e829f0f"
   },
   "source": [
    "**We cant come to any probable conclusion between age of the house and the Price of the house with this boxplot**"
   ]
  },
  {
   "cell_type": "code",
   "execution_count": null,
   "metadata": {
    "_uuid": "d7dca14842f37c6f86c3a5e8ad72dd2ecd00d1e8"
   },
   "outputs": [],
   "source": [
    "# Kitchens vs  Price\n",
    "\n",
    "var = 'KITCHENS'\n",
    "data = pd.concat([train_dataset['PRICE'], train_dataset[var]], axis=1)\n",
    "f, ax = plt.subplots(figsize=(16, 8))\n",
    "fig = sns.boxplot(x=var, y=\"PRICE\", data=data)\n",
    "fig.axis(ymin=0, ymax=2000000);\n",
    "plt.xticks(rotation=90);"
   ]
  },
  {
   "cell_type": "code",
   "execution_count": null,
   "metadata": {
    "_uuid": "16df8f685402e92ff7b2f69a03bbc1869e615ee9"
   },
   "outputs": [],
   "source": [
    "# Stories vs  Price\n",
    "\n",
    "var = 'STORIES'\n",
    "data = pd.concat([train_dataset['PRICE'], train_dataset[var]], axis=1)\n",
    "f, ax = plt.subplots(figsize=(16, 8))\n",
    "fig = sns.boxplot(x=var, y=\"PRICE\", data=data)\n",
    "fig.axis(ymin=0, ymax=5000000);\n",
    "plt.xticks(rotation=90);"
   ]
  },
  {
   "cell_type": "markdown",
   "metadata": {
    "_uuid": "1fb80694280152c325091710cd2a96cc39f9c86e"
   },
   "source": [
    "**Labelling the Categorical Data**"
   ]
  },
  {
   "cell_type": "code",
   "execution_count": null,
   "metadata": {
    "_uuid": "da80ab38463b31e7dd6bf32f399aadda920d1912"
   },
   "outputs": [],
   "source": [
    "from sklearn.preprocessing import LabelEncoder\n",
    "cols = train_dataset.select_dtypes(include=['object']).columns\n",
    "# Process columns and apply LabelEncoder to categorical features\n",
    "for c in cols:\n",
    "    lbl = LabelEncoder() \n",
    "    lbl.fit(list(train_dataset[c].values)) \n",
    "    train_dataset[c] = lbl.transform(list(train_dataset[c].values))\n",
    "\n",
    "train_dataset.head()"
   ]
  },
  {
   "cell_type": "markdown",
   "metadata": {
    "_uuid": "e5e06bac537b23246ba5e7987f79f193213c3ffd"
   },
   "source": [
    "**Finding the Skewness of the Data**"
   ]
  },
  {
   "cell_type": "code",
   "execution_count": null,
   "metadata": {
    "_uuid": "2b64a74f5e77392c847d7ff2af29e3ef43c8e7d3"
   },
   "outputs": [],
   "source": [
    "# We use the numpy fuction log which  applies log to all elements of the column\n",
    "train_dataset[\"PRICE\"] = np.log(train_dataset[\"PRICE\"])\n",
    "\n",
    "#Check the new distribution \n",
    "sns.distplot(train_dataset['PRICE'] , fit=norm);\n",
    "\n",
    "# Get the fitted parameters used by the function\n",
    "(mu, sigma) = norm.fit(train_dataset['PRICE'])\n",
    "print( '\\n mu = {:.2f} and sigma = {:.2f}\\n'.format(mu, sigma))\n",
    "plt.legend(['Normal dist. ($\\mu=$ {:.2f} and $\\sigma=$ {:.2f} )'.format(mu, sigma)],\n",
    "            loc='best')\n",
    "plt.ylabel('Frequency')\n",
    "plt.title('SalePrice distribution')\n",
    "\n",
    "fig = plt.figure()\n",
    "res = stats.probplot(train_dataset['PRICE'], plot=plt)\n",
    "plt.show()\n",
    "\n",
    "y_train = train_dataset.PRICE.values\n",
    "\n",
    "print(\"Skewness: %f\" % train_dataset['PRICE'].skew())\n",
    "print(\"Kurtosis: %f\" % train_dataset['PRICE'].kurt())"
   ]
  },
  {
   "cell_type": "code",
   "execution_count": null,
   "metadata": {
    "_uuid": "ad12bb97cea9af1e33497c89c3e33bd04d0197d5",
    "collapsed": true
   },
   "outputs": [],
   "source": [
    "train_dataset = (train_dataset - train_dataset.mean()) / (train_dataset.max() - train_dataset.min())"
   ]
  },
  {
   "cell_type": "code",
   "execution_count": null,
   "metadata": {
    "_uuid": "49fd77876f2a7f25b3499e2138a63da4847b5642"
   },
   "outputs": [],
   "source": [
    "train_dataset = pd.get_dummies(train_dataset)\n",
    "print(train_dataset.shape)"
   ]
  },
  {
   "cell_type": "code",
   "execution_count": null,
   "metadata": {
    "_uuid": "62a832c79a0d6efdd88b775722b13a4551db73b4"
   },
   "outputs": [],
   "source": [
    "train_dataset, test_dataset = train_test_split(train_dataset, test_size=0.2)\n",
    "\n",
    "train_dataset.shape"
   ]
  },
  {
   "cell_type": "markdown",
   "metadata": {
    "_uuid": "df54bf7ce1aab546898d16b684a08c95f6487ab9"
   },
   "source": [
    "**Running OLS on the Train Dataset**"
   ]
  },
  {
   "cell_type": "code",
   "execution_count": null,
   "metadata": {
    "_uuid": "48d689e6926a8f397ca81371ea96b0a28d685b5a"
   },
   "outputs": [],
   "source": [
    "import statsmodels.api as sm\n",
    "\n",
    "from sklearn.metrics import r2_score\n",
    "\n",
    "from sklearn.metrics import mean_squared_error\n",
    "\n",
    "train_dataset_Y = train_dataset.PRICE.values\n",
    "\n",
    "train_dataset_X = train_dataset.drop('PRICE',axis =1)\n",
    "\n",
    "train_dataset_X.shape\n",
    "\n",
    "train_dataset_X = sm.add_constant(train_dataset_X)\n",
    "\n",
    "Pricing_model = sm.OLS(train_dataset_Y,train_dataset_X)\n",
    "\n",
    "result = Pricing_model.fit()\n",
    "\n",
    "print(result.summary())\n",
    "\n",
    "print(\"RMSE: \",np.sqrt(mean_squared_error(result.fittedvalues,train_dataset_Y)))"
   ]
  },
  {
   "cell_type": "code",
   "execution_count": null,
   "metadata": {
    "_uuid": "ddc1f031b1f2093d1af971700b719484eb4dbf1c"
   },
   "outputs": [],
   "source": [
    "test_dataset_Y = test_dataset.PRICE.values\n",
    "\n",
    "test_dataset = test_dataset.drop('PRICE',axis=1)\n",
    "\n",
    "predictions = result.predict(sm.add_constant(test_dataset))\n",
    "\n",
    "RMSE = np.sqrt(mean_squared_error(predictions,test_dataset_Y))\n",
    "\n",
    "print('The RMSE of the predicted values is ',RMSE)\n",
    "\n"
   ]
  },
  {
   "cell_type": "code",
   "execution_count": null,
   "metadata": {
    "_uuid": "d8c7b902230fdca1e71bc37b49b92403a29cb33f"
   },
   "outputs": [],
   "source": [
    "plt.scatter(test_dataset_Y, predictions)\n",
    "\n",
    "plt.legend()\n",
    "plt.title('OLS predicted values')\n",
    "plt.xlabel('Actual Values')\n",
    "plt.ylabel('Predicted Values')\n",
    "plt.show()"
   ]
  },
  {
   "cell_type": "markdown",
   "metadata": {
    "_uuid": "742baed80a89150d083094546b08e645a4073c62"
   },
   "source": [
    "**Ridge Regression**"
   ]
  },
  {
   "cell_type": "code",
   "execution_count": null,
   "metadata": {
    "_uuid": "9e4892751c275bbe35a8e12d372212a9298877a2"
   },
   "outputs": [],
   "source": [
    "from sklearn.linear_model import Ridge\n",
    "\n",
    "from sklearn.linear_model import RidgeCV\n",
    "\n",
    "from sklearn.metrics import r2_score\n",
    "\n",
    "## training the model\n",
    "\n",
    "train_dataset_X = train_dataset_X.drop('const',axis=1)\n",
    "\n",
    "regr_cv = RidgeCV(alphas=[0.1,1,2,3,4,5,6,7,0.5,0.8])\n",
    "\n",
    "model_cv = regr_cv.fit(train_dataset_X,train_dataset_Y)\n",
    "\n",
    "model_cv.alpha_\n"
   ]
  },
  {
   "cell_type": "code",
   "execution_count": null,
   "metadata": {
    "_uuid": "cc61b44701227f594cfe92422d3f4ffc3a4fa98e"
   },
   "outputs": [],
   "source": [
    "ridgeReg = Ridge(alpha=5, normalize=True)\n",
    "\n",
    "ridgeReg.fit(train_dataset_X,train_dataset_Y)\n",
    "\n",
    "pred = ridgeReg.predict(test_dataset)\n",
    "\n",
    "# calculating mse\n",
    "\n",
    "mse = np.sqrt(mean_squared_error(pred , test_dataset_Y))\n",
    "\n",
    "print(\"The Root mean square error of Ridge Regression is \", mse)\n",
    "\n",
    "print(\"The R2 value of Ridge Regression is \",r2_score(test_dataset_Y,pred))"
   ]
  },
  {
   "cell_type": "markdown",
   "metadata": {
    "_uuid": "6c1eda57dcde43ad144b21894886fdb7d0bd4a2d"
   },
   "source": [
    "**\n",
    "Lasso Regression**"
   ]
  },
  {
   "cell_type": "code",
   "execution_count": null,
   "metadata": {
    "_uuid": "31ae9eb9c51037d69981adca44181b690fe23519"
   },
   "outputs": [],
   "source": [
    "from sklearn.linear_model import Lasso\n",
    "\n",
    "lassoReg = Lasso(alpha=20, normalize=True)\n",
    "\n",
    "lassoReg.fit(train_dataset_X,train_dataset_Y)\n",
    "\n",
    "pred = lassoReg.predict(test_dataset)\n",
    "\n",
    "# calculating mse\n",
    "\n",
    "rmse = np.sqrt(mean_squared_error(pred, test_dataset_Y))\n",
    "\n",
    "print(\"The Root mean square error of Lasso Regression is \", rmse)\n",
    "\n",
    "print(\"The R2 value of Lasso Regression is \",r2_score(test_dataset_Y,pred))\n",
    "\n",
    "#lassoReg.score(test_dataset,test_dataset_Y)\n",
    "\n"
   ]
  },
  {
   "cell_type": "markdown",
   "metadata": {
    "_uuid": "ffe6090bc03a53a8ab97a8791dd2004d27415bdb"
   },
   "source": [
    "**Decision Tree Regression**"
   ]
  },
  {
   "cell_type": "code",
   "execution_count": null,
   "metadata": {
    "_uuid": "f0e278312c5422aeb40e8f793042381836555f11"
   },
   "outputs": [],
   "source": [
    "from sklearn.tree import DecisionTreeRegressor\n",
    "regressor = DecisionTreeRegressor(random_state = 0)\n",
    "regressor.fit(train_dataset_X,train_dataset_Y)\n",
    " \n",
    "# Predicting a new result\n",
    "y_pred = regressor.predict(test_dataset)\n",
    "\n",
    "rmse = np.sqrt(mean_squared_error(y_pred, test_dataset_Y))\n",
    "\n",
    "print(\"The Root mean square error of Decision Tree Regression is \", rmse)\n",
    "\n",
    "print(\"The R2 value of Decision Tree Regression is \",r2_score(test_dataset_Y,y_pred))\n",
    "\n",
    "\n"
   ]
  },
  {
   "cell_type": "markdown",
   "metadata": {
    "_uuid": "61a45765967986980c9f449154fcd75b02dddfe0"
   },
   "source": [
    "**Weighted KNN for Regression**"
   ]
  },
  {
   "cell_type": "code",
   "execution_count": null,
   "metadata": {
    "_uuid": "b40ab8dce4f7c413c12709448aa9c5ec0443399d"
   },
   "outputs": [],
   "source": [
    "from sklearn import neighbors\n",
    "\n",
    "\n",
    "knn = neighbors.KNeighborsRegressor(5)\n",
    "\n",
    "pred_test = knn.fit(train_dataset_X,train_dataset_Y).predict(test_dataset)\n",
    "\n",
    "RMSE = np.sqrt(mean_squared_error(test_dataset_Y, pred_test))\n",
    "\n",
    "print(\"The Root Mean Squared Error of KNN Regression is \",RMSE)\n",
    "\n",
    "print(\"The R2 value of KNN Regression is \",r2_score(test_dataset_Y,pred_test))"
   ]
  },
  {
   "cell_type": "markdown",
   "metadata": {
    "_uuid": "6af0795cfa081dd5b0d3423977ed1909f5433200"
   },
   "source": [
    "**Support Vector Machine Regression**"
   ]
  },
  {
   "cell_type": "code",
   "execution_count": null,
   "metadata": {
    "_uuid": "a55967c0ee5d0e737142e1de291376ffaf7493c6",
    "collapsed": true
   },
   "outputs": [],
   "source": [
    "# from sklearn.svm import SVR\n",
    "\n",
    "# svr_rbf = SVR(kernel='rbf', C=1e3, gamma=0.1)\n",
    "\n",
    "# svr_lin = SVR(kernel='linear', C=1e3)\n",
    "\n",
    "# svr_poly = SVR(kernel='poly', C=1e3, degree=3)\n",
    "\n",
    "# y_rbf = svr_rbf.fit(train_dataset_X,train_dataset_Y).predict(test_dataset)\n",
    "\n",
    "# y_lin = svr_lin.fit(train_dataset_X,train_dataset_Y).predict(test_dataset)\n",
    "\n",
    "# y_poly = svr_poly.fit(train_dataset_X,train_dataset_Y).predict(test_dataset)\n",
    "\n",
    "# RMSE_1 = np.sqrt(mean_squared_error(test_dataset_Y, y_rbf))\n",
    "\n",
    "# print(\"The Root Mean Squared Error of SVM (Radial Basis Function) Regression is \",RMSE_1)\n",
    "\n",
    "# print(\"The R2 value of SVM (Radial Basis Function) Regression is \",r2_score(test_dataset_Y,y_rbf))\n",
    "\n",
    "# RMSE_2 = np.sqrt(mean_squared_error(test_dataset_Y, y_lin))\n",
    "\n",
    "# print(\"The Root Mean Squared Error of SVM(Linear) Regression is \",RMSE_2)\n",
    "\n",
    "# print(\"The R2 value of SVM(Linear) Regression is \",r2_score(test_dataset_Y,y_lin))\n",
    "\n",
    "# RMSE_3 = np.sqrt(mean_squared_error(test_dataset_Y, y_poly))\n",
    "\n",
    "# print(\"The Root Mean Squared Error of SVM(Polynomial) Regression is \",RMSE_3)\n",
    "\n",
    "# print(\"The R2 value of SVM(Polynomial) Regression is \",r2_score(test_dataset_Y,y_poly))"
   ]
  },
  {
   "cell_type": "markdown",
   "metadata": {
    "_uuid": "f774228894e5a628e86d2fda85b33e3aba4c5c47"
   },
   "source": [
    "**Random Forest Regression**"
   ]
  },
  {
   "cell_type": "code",
   "execution_count": null,
   "metadata": {
    "_uuid": "9d4cb4c7e5706b60ca07bfad9eebd738d3f9a24f"
   },
   "outputs": [],
   "source": [
    "from sklearn.ensemble import RandomForestRegressor\n",
    "# Instantiate model with 1000 decision trees\n",
    "rf = RandomForestRegressor(n_estimators = 25)\n",
    "# Train the model on training data\n",
    "pred = rf.fit(train_dataset_X,train_dataset_Y).predict(test_dataset)\n",
    "\n",
    "RMSE_1 = np.sqrt(mean_squared_error(test_dataset_Y, pred))\n",
    "\n",
    "print(\"The Root Mean Squared Error of Random Forest Regression is \",RMSE_1)\n",
    "\n",
    "print(\"The R2 value of Random Forest Regression is \",r2_score(test_dataset_Y,pred))"
   ]
  },
  {
   "cell_type": "markdown",
   "metadata": {
    "_uuid": "96d876f197518cef2750617eff7552972c59cc62"
   },
   "source": [
    "**Gradient Boosting Trees**"
   ]
  },
  {
   "cell_type": "code",
   "execution_count": null,
   "metadata": {
    "_uuid": "60dd53f3875134a4dd3baa8171f9dfbad41f1e10"
   },
   "outputs": [],
   "source": [
    "from sklearn.ensemble import GradientBoostingRegressor\n",
    "\n",
    "pred = GradientBoostingRegressor(n_estimators=100, learning_rate=0.3,max_depth=1, random_state=0, loss='ls').fit(train_dataset_X,train_dataset_Y).predict(test_dataset)\n",
    "\n",
    "RMSE_1 = np.sqrt(mean_squared_error(test_dataset_Y, pred))\n",
    "\n",
    "print(\"The Root Mean Squared Error of Gradient Boosting Regression is \",RMSE_1)\n",
    "\n",
    "print(\"The R2 value of Gradient Boosting Regression is \",r2_score(test_dataset_Y,pred))"
   ]
  }
 ],
 "metadata": {
  "kernelspec": {
   "display_name": "Python 3",
   "language": "python",
   "name": "python3"
  },
  "language_info": {
   "codemirror_mode": {
    "name": "ipython",
    "version": 3
   },
   "file_extension": ".py",
   "mimetype": "text/x-python",
   "name": "python",
   "nbconvert_exporter": "python",
   "pygments_lexer": "ipython3",
   "version": "3.7.4"
  }
 },
 "nbformat": 4,
 "nbformat_minor": 1
}
