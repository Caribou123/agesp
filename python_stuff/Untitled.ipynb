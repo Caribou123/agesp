{
 "cells": [
  {
   "cell_type": "code",
   "execution_count": 1,
   "metadata": {},
   "outputs": [],
   "source": [
    "import numpy as np\n",
    "import matplotlib.pyplot as plt\n",
    "import pandas as pd"
   ]
  },
  {
   "cell_type": "code",
   "execution_count": 2,
   "metadata": {},
   "outputs": [],
   "source": [
    "dataSet = pd.read_csv(\"train.csv\")\n",
    "#Get the data set"
   ]
  },
  {
   "cell_type": "code",
   "execution_count": 3,
   "metadata": {},
   "outputs": [],
   "source": [
    "classSet = pd.concat([dataSet['Pclass'], dataSet['Survived']], axis=1)\n",
    "#Create a set with only the Class and Binary Value : Survived or not"
   ]
  },
  {
   "cell_type": "code",
   "execution_count": 4,
   "metadata": {},
   "outputs": [],
   "source": [
    "three,two,one = classSet['Pclass'].value_counts()\n",
    "#Count number of elements in class\n",
    "\n",
    "\n",
    "alive = classSet[classSet.iloc[:,1] == 1]\n",
    "dead = classSet[classSet.iloc[:,1] == 0]\n",
    "#Separate the survivors from the the victims\n",
    "\n",
    "one_al = alive[alive.iloc[:,0] == 1]\n",
    "two_al = alive[alive.iloc[:,0] == 2]\n",
    "three_al = alive[alive.iloc[:,0] == 3]\n",
    "\n",
    "#Separate the survivors from the victims per class\n",
    "\n",
    "one_de = dead[dead.iloc[:,0] == 1]\n",
    "two_de = dead[dead.iloc[:,0] == 2]\n",
    "three_de = dead[dead.iloc[:,0] == 3]"
   ]
  },
  {
   "cell_type": "code",
   "execution_count": 5,
   "metadata": {},
   "outputs": [
    {
     "name": "stdout",
     "output_type": "stream",
     "text": [
      "first_class alive 73.91304347826086 second_class alive 40.27777777777778 third_class alive 24.236252545824847\n",
      "\n"
     ]
    }
   ],
   "source": [
    "#Get the percentage of survivors per Class\n",
    "perce_one_alive = (one_al.shape[0] / one) * 100\n",
    "perce_two_alive = (two_al.shape[0] / two) * 100\n",
    "perce_three_alive = (three_al.shape[0] / three) * 100\n",
    "print ('first_class alive {0} second_class alive {1} third_class alive {2}\\n'.format(perce_one_alive, perce_two_alive, perce_three_alive))"
   ]
  },
  {
   "cell_type": "code",
   "execution_count": 6,
   "metadata": {},
   "outputs": [
    {
     "data": {
      "image/png": "[encoded data removed]",
      "text/plain": [
       "<Figure size 432x288 with 1 Axes>"
      ]
     },
     "metadata": {
      "needs_background": "light"
     },
     "output_type": "display_data"
    }
   ],
   "source": [
    "#Build bar graph to visualize data\n",
    "x = [perce_one_alive, perce_two_alive, perce_three_alive]\n",
    "plt.bar(range(3), x, facecolor='green')\n",
    "Class = ['One', 'Two', 'Three']\n",
    "plt.xticks(np.arange(len(Class)), Class)\n",
    "plt.xlabel('Class')\n",
    "plt.ylabel('percentage of survivors')\n",
    "plt.show()"
   ]
  },
  {
   "cell_type": "code",
   "execution_count": 7,
   "metadata": {},
   "outputs": [
    {
     "name": "stdout",
     "output_type": "stream",
     "text": [
      "     PassengerId  Survived  Pclass  \\\n",
      "0              1         0       3   \n",
      "1              2         1       1   \n",
      "2              3         1       3   \n",
      "3              4         1       1   \n",
      "4              5         0       3   \n",
      "5              6         0       3   \n",
      "6              7         0       1   \n",
      "7              8         0       3   \n",
      "8              9         1       3   \n",
      "9             10         1       2   \n",
      "10            11         1       3   \n",
      "11            12         1       1   \n",
      "12            13         0       3   \n",
      "13            14         0       3   \n",
      "14            15         0       3   \n",
      "15            16         1       2   \n",
      "16            17         0       3   \n",
      "17            18         1       2   \n",
      "18            19         0       3   \n",
      "19            20         1       3   \n",
      "20            21         0       2   \n",
      "21            22         1       2   \n",
      "22            23         1       3   \n",
      "23            24         1       1   \n",
      "24            25         0       3   \n",
      "25            26         1       3   \n",
      "26            27         0       3   \n",
      "27            28         0       1   \n",
      "28            29         1       3   \n",
      "29            30         0       3   \n",
      "..           ...       ...     ...   \n",
      "861          862         0       2   \n",
      "862          863         1       1   \n",
      "863          864         0       3   \n",
      "864          865         0       2   \n",
      "865          866         1       2   \n",
      "866          867         1       2   \n",
      "867          868         0       1   \n",
      "868          869         0       3   \n",
      "869          870         1       3   \n",
      "870          871         0       3   \n",
      "871          872         1       1   \n",
      "872          873         0       1   \n",
      "873          874         0       3   \n",
      "874          875         1       2   \n",
      "875          876         1       3   \n",
      "876          877         0       3   \n",
      "877          878         0       3   \n",
      "878          879         0       3   \n",
      "879          880         1       1   \n",
      "880          881         1       2   \n",
      "881          882         0       3   \n",
      "882          883         0       3   \n",
      "883          884         0       2   \n",
      "884          885         0       3   \n",
      "885          886         0       3   \n",
      "886          887         0       2   \n",
      "887          888         1       1   \n",
      "888          889         0       3   \n",
      "889          890         1       1   \n",
      "890          891         0       3   \n",
      "\n",
      "                                                  Name     Sex   Age  SibSp  \\\n",
      "0                              Braund, Mr. Owen Harris    male  22.0      1   \n",
      "1    Cumings, Mrs. John Bradley (Florence Briggs Th...  female  38.0      1   \n",
      "2                               Heikkinen, Miss. Laina  female  26.0      0   \n",
      "3         Futrelle, Mrs. Jacques Heath (Lily May Peel)  female  35.0      1   \n",
      "4                             Allen, Mr. William Henry    male  35.0      0   \n",
      "5                                     Moran, Mr. James    male   NaN      0   \n",
      "6                              McCarthy, Mr. Timothy J    male  54.0      0   \n",
      "7                       Palsson, Master. Gosta Leonard    male   2.0      3   \n",
      "8    Johnson, Mrs. Oscar W (Elisabeth Vilhelmina Berg)  female  27.0      0   \n",
      "9                  Nasser, Mrs. Nicholas (Adele Achem)  female  14.0      1   \n",
      "10                     Sandstrom, Miss. Marguerite Rut  female   4.0      1   \n",
      "11                            Bonnell, Miss. Elizabeth  female  58.0      0   \n",
      "12                      Saundercock, Mr. William Henry    male  20.0      0   \n",
      "13                         Andersson, Mr. Anders Johan    male  39.0      1   \n",
      "14                Vestrom, Miss. Hulda Amanda Adolfina  female  14.0      0   \n",
      "15                    Hewlett, Mrs. (Mary D Kingcome)   female  55.0      0   \n",
      "16                                Rice, Master. Eugene    male   2.0      4   \n",
      "17                        Williams, Mr. Charles Eugene    male   NaN      0   \n",
      "18   Vander Planke, Mrs. Julius (Emelia Maria Vande...  female  31.0      1   \n",
      "19                             Masselmani, Mrs. Fatima  female   NaN      0   \n",
      "20                                Fynney, Mr. Joseph J    male  35.0      0   \n",
      "21                               Beesley, Mr. Lawrence    male  34.0      0   \n",
      "22                         McGowan, Miss. Anna \"Annie\"  female  15.0      0   \n",
      "23                        Sloper, Mr. William Thompson    male  28.0      0   \n",
      "24                       Palsson, Miss. Torborg Danira  female   8.0      3   \n",
      "25   Asplund, Mrs. Carl Oscar (Selma Augusta Emilia...  female  38.0      1   \n",
      "26                             Emir, Mr. Farred Chehab    male   NaN      0   \n",
      "27                      Fortune, Mr. Charles Alexander    male  19.0      3   \n",
      "28                       O'Dwyer, Miss. Ellen \"Nellie\"  female   NaN      0   \n",
      "29                                 Todoroff, Mr. Lalio    male   NaN      0   \n",
      "..                                                 ...     ...   ...    ...   \n",
      "861                        Giles, Mr. Frederick Edward    male  21.0      1   \n",
      "862  Swift, Mrs. Frederick Joel (Margaret Welles Ba...  female  48.0      0   \n",
      "863                  Sage, Miss. Dorothy Edith \"Dolly\"  female   NaN      8   \n",
      "864                             Gill, Mr. John William    male  24.0      0   \n",
      "865                           Bystrom, Mrs. (Karolina)  female  42.0      0   \n",
      "866                       Duran y More, Miss. Asuncion  female  27.0      1   \n",
      "867               Roebling, Mr. Washington Augustus II    male  31.0      0   \n",
      "868                        van Melkebeke, Mr. Philemon    male   NaN      0   \n",
      "869                    Johnson, Master. Harold Theodor    male   4.0      1   \n",
      "870                                  Balkic, Mr. Cerin    male  26.0      0   \n",
      "871   Beckwith, Mrs. Richard Leonard (Sallie Monypeny)  female  47.0      1   \n",
      "872                           Carlsson, Mr. Frans Olof    male  33.0      0   \n",
      "873                        Vander Cruyssen, Mr. Victor    male  47.0      0   \n",
      "874              Abelson, Mrs. Samuel (Hannah Wizosky)  female  28.0      1   \n",
      "875                   Najib, Miss. Adele Kiamie \"Jane\"  female  15.0      0   \n",
      "876                      Gustafsson, Mr. Alfred Ossian    male  20.0      0   \n",
      "877                               Petroff, Mr. Nedelio    male  19.0      0   \n",
      "878                                 Laleff, Mr. Kristo    male   NaN      0   \n",
      "879      Potter, Mrs. Thomas Jr (Lily Alexenia Wilson)  female  56.0      0   \n",
      "880       Shelley, Mrs. William (Imanita Parrish Hall)  female  25.0      0   \n",
      "881                                 Markun, Mr. Johann    male  33.0      0   \n",
      "882                       Dahlberg, Miss. Gerda Ulrika  female  22.0      0   \n",
      "883                      Banfield, Mr. Frederick James    male  28.0      0   \n",
      "884                             Sutehall, Mr. Henry Jr    male  25.0      0   \n",
      "885               Rice, Mrs. William (Margaret Norton)  female  39.0      0   \n",
      "886                              Montvila, Rev. Juozas    male  27.0      0   \n",
      "887                       Graham, Miss. Margaret Edith  female  19.0      0   \n",
      "888           Johnston, Miss. Catherine Helen \"Carrie\"  female   NaN      1   \n",
      "889                              Behr, Mr. Karl Howell    male  26.0      0   \n",
      "890                                Dooley, Mr. Patrick    male  32.0      0   \n",
      "\n",
      "     Parch            Ticket      Fare        Cabin Embarked  \n",
      "0        0         A/5 21171    7.2500          NaN        S  \n",
      "1        0          PC 17599   71.2833          C85        C  \n",
      "2        0  STON/O2. 3101282    7.9250          NaN        S  \n",
      "3        0            113803   53.1000         C123        S  \n",
      "4        0            373450    8.0500          NaN        S  \n",
      "5        0            330877    8.4583          NaN        Q  \n",
      "6        0             17463   51.8625          E46        S  \n",
      "7        1            349909   21.0750          NaN        S  \n",
      "8        2            347742   11.1333          NaN        S  \n",
      "9        0            237736   30.0708          NaN        C  \n",
      "10       1           PP 9549   16.7000           G6        S  \n",
      "11       0            113783   26.5500         C103        S  \n",
      "12       0         A/5. 2151    8.0500          NaN        S  \n",
      "13       5            347082   31.2750          NaN        S  \n",
      "14       0            350406    7.8542          NaN        S  \n",
      "15       0            248706   16.0000          NaN        S  \n",
      "16       1            382652   29.1250          NaN        Q  \n",
      "17       0            244373   13.0000          NaN        S  \n",
      "18       0            345763   18.0000          NaN        S  \n",
      "19       0              2649    7.2250          NaN        C  \n",
      "20       0            239865   26.0000          NaN        S  \n",
      "21       0            248698   13.0000          D56        S  \n",
      "22       0            330923    8.0292          NaN        Q  \n",
      "23       0            113788   35.5000           A6        S  \n",
      "24       1            349909   21.0750          NaN        S  \n",
      "25       5            347077   31.3875          NaN        S  \n",
      "26       0              2631    7.2250          NaN        C  \n",
      "27       2             19950  263.0000  C23 C25 C27        S  \n",
      "28       0            330959    7.8792          NaN        Q  \n",
      "29       0            349216    7.8958          NaN        S  \n",
      "..     ...               ...       ...          ...      ...  \n",
      "861      0             28134   11.5000          NaN        S  \n",
      "862      0             17466   25.9292          D17        S  \n",
      "863      2          CA. 2343   69.5500          NaN        S  \n",
      "864      0            233866   13.0000          NaN        S  \n",
      "865      0            236852   13.0000          NaN        S  \n",
      "866      0     SC/PARIS 2149   13.8583          NaN        C  \n",
      "867      0          PC 17590   50.4958          A24        S  \n",
      "868      0            345777    9.5000          NaN        S  \n",
      "869      1            347742   11.1333          NaN        S  \n",
      "870      0            349248    7.8958          NaN        S  \n",
      "871      1             11751   52.5542          D35        S  \n",
      "872      0               695    5.0000  B51 B53 B55        S  \n",
      "873      0            345765    9.0000          NaN        S  \n",
      "874      0         P/PP 3381   24.0000          NaN        C  \n",
      "875      0              2667    7.2250          NaN        C  \n",
      "876      0              7534    9.8458          NaN        S  \n",
      "877      0            349212    7.8958          NaN        S  \n",
      "878      0            349217    7.8958          NaN        S  \n",
      "879      1             11767   83.1583          C50        C  \n",
      "880      1            230433   26.0000          NaN        S  \n",
      "881      0            349257    7.8958          NaN        S  \n",
      "882      0              7552   10.5167          NaN        S  \n",
      "883      0  C.A./SOTON 34068   10.5000          NaN        S  \n",
      "884      0   SOTON/OQ 392076    7.0500          NaN        S  \n",
      "885      5            382652   29.1250          NaN        Q  \n",
      "886      0            211536   13.0000          NaN        S  \n",
      "887      0            112053   30.0000          B42        S  \n",
      "888      2        W./C. 6607   23.4500          NaN        S  \n",
      "889      0            111369   30.0000         C148        C  \n",
      "890      0            370376    7.7500          NaN        Q  \n",
      "\n",
      "[891 rows x 12 columns]\n"
     ]
    }
   ],
   "source": [
    "print (dataSet)"
   ]
  },
  {
   "cell_type": "code",
   "execution_count": 8,
   "metadata": {},
   "outputs": [],
   "source": [
    "SexSet = pd.concat([dataSet['Sex'], dataSet['Survived']], axis=1)\n",
    "#Create a set with only the Sex and Binary Value : Survived or not"
   ]
  },
  {
   "cell_type": "code",
   "execution_count": 17,
   "metadata": {},
   "outputs": [
    {
     "name": "stdout",
     "output_type": "stream",
     "text": [
      "      Sex  Survived\n",
      "17   male         1\n",
      "21   male         1\n",
      "23   male         1\n",
      "36   male         1\n",
      "55   male         1\n",
      "65   male         1\n",
      "74   male         1\n",
      "78   male         1\n",
      "81   male         1\n",
      "97   male         1\n",
      "107  male         1\n",
      "125  male         1\n",
      "127  male         1\n",
      "146  male         1\n",
      "165  male         1\n",
      "183  male         1\n",
      "187  male         1\n",
      "193  male         1\n",
      "204  male         1\n",
      "207  male         1\n",
      "209  male         1\n",
      "220  male         1\n",
      "224  male         1\n",
      "226  male         1\n",
      "248  male         1\n",
      "261  male         1\n",
      "267  male         1\n",
      "271  male         1\n",
      "283  male         1\n",
      "286  male         1\n",
      "..    ...       ...\n",
      "664  male         1\n",
      "673  male         1\n",
      "679  male         1\n",
      "681  male         1\n",
      "690  male         1\n",
      "692  male         1\n",
      "701  male         1\n",
      "707  male         1\n",
      "709  male         1\n",
      "712  male         1\n",
      "724  male         1\n",
      "737  male         1\n",
      "740  male         1\n",
      "744  male         1\n",
      "751  male         1\n",
      "755  male         1\n",
      "762  male         1\n",
      "788  male         1\n",
      "802  male         1\n",
      "803  male         1\n",
      "804  male         1\n",
      "821  male         1\n",
      "827  male         1\n",
      "828  male         1\n",
      "831  male         1\n",
      "838  male         1\n",
      "839  male         1\n",
      "857  male         1\n",
      "869  male         1\n",
      "889  male         1\n",
      "\n",
      "[109 rows x 2 columns]         Sex  Survived\n",
      "1    female         1\n",
      "2    female         1\n",
      "3    female         1\n",
      "8    female         1\n",
      "9    female         1\n",
      "10   female         1\n",
      "11   female         1\n",
      "15   female         1\n",
      "19   female         1\n",
      "22   female         1\n",
      "25   female         1\n",
      "28   female         1\n",
      "31   female         1\n",
      "32   female         1\n",
      "39   female         1\n",
      "43   female         1\n",
      "44   female         1\n",
      "47   female         1\n",
      "52   female         1\n",
      "53   female         1\n",
      "56   female         1\n",
      "58   female         1\n",
      "61   female         1\n",
      "66   female         1\n",
      "68   female         1\n",
      "79   female         1\n",
      "82   female         1\n",
      "84   female         1\n",
      "85   female         1\n",
      "88   female         1\n",
      "..      ...       ...\n",
      "774  female         1\n",
      "777  female         1\n",
      "779  female         1\n",
      "780  female         1\n",
      "781  female         1\n",
      "786  female         1\n",
      "796  female         1\n",
      "797  female         1\n",
      "801  female         1\n",
      "809  female         1\n",
      "820  female         1\n",
      "823  female         1\n",
      "829  female         1\n",
      "830  female         1\n",
      "835  female         1\n",
      "842  female         1\n",
      "849  female         1\n",
      "853  female         1\n",
      "855  female         1\n",
      "856  female         1\n",
      "858  female         1\n",
      "862  female         1\n",
      "865  female         1\n",
      "866  female         1\n",
      "871  female         1\n",
      "874  female         1\n",
      "875  female         1\n",
      "879  female         1\n",
      "880  female         1\n",
      "887  female         1\n",
      "\n",
      "[233 rows x 2 columns]\n"
     ]
    }
   ],
   "source": [
    "male, female = SexSet['Sex'].value_counts()\n",
    "#Count number of elements in set\n",
    "\n",
    "\n",
    "s_alive = SexSet[SexSet.iloc[:,1] == 1]\n",
    "s_dead = SexSet[SexSet.iloc[:,1] == 0]\n",
    "#Separate the survivors from the the victims\n",
    "\n",
    "male_al = s_alive[s_alive.iloc[:,0] == 'male']\n",
    "female_al = s_alive[s_alive.iloc[:,0] == 'female']\n",
    "\n",
    "#Separate the survivors from the victims per class\n",
    "\n",
    "male_de = s_dead[s_dead.iloc[:,0] == 'male']\n",
    "female_de = s_dead[s_dead.iloc[:,0] == 'female']\n",
    "print(male_al, female_al)"
   ]
  },
  {
   "cell_type": "code",
   "execution_count": 18,
   "metadata": {},
   "outputs": [
    {
     "name": "stdout",
     "output_type": "stream",
     "text": [
      "male alive 18.890814558058924 female alive 74.20382165605095 \n",
      "\n"
     ]
    }
   ],
   "source": [
    "perce_male_alive = (male_al.shape[0] / male) * 100\n",
    "perce_female_alive = (female_al.shape[0] / female) * 100\n",
    "print ('male alive {0} female alive {1} \\n'.format(perce_male_alive, perce_female_alive))"
   ]
  },
  {
   "cell_type": "code",
   "execution_count": 19,
   "metadata": {},
   "outputs": [
    {
     "data": {
      "image/png": "[encoded data removed]",
      "text/plain": [
       "<Figure size 432x288 with 1 Axes>"
      ]
     },
     "metadata": {
      "needs_background": "light"
     },
     "output_type": "display_data"
    }
   ],
   "source": [
    "#Build bar graph to visualize data\n",
    "x = [perce_male_alive, perce_female_alive]\n",
    "plt.bar(range(2), x, facecolor='green')\n",
    "Sex = ['Male', 'Female']\n",
    "plt.xticks(np.arange(len(Sex)), Sex)\n",
    "plt.xlabel('Sex')\n",
    "plt.ylabel('percentage of survivors')\n",
    "plt.show()"
   ]
  },
  {
   "cell_type": "code",
   "execution_count": 20,
   "metadata": {},
   "outputs": [],
   "source": [
    "Age = pd.concat([dataSet['Age'], dataSet['Survived']], axis=1)\n",
    "#Create a set with only the Age and Binary Value : Survived or not"
   ]
  },
  {
   "cell_type": "code",
   "execution_count": 21,
   "metadata": {},
   "outputs": [
    {
     "data": {
      "text/plain": [
       "[<matplotlib.lines.Line2D at 0x1165029b0>,\n",
       " <matplotlib.lines.Line2D at 0x116502b00>]"
      ]
     },
     "execution_count": 21,
     "metadata": {},
     "output_type": "execute_result"
    },
    {
     "data": {
      "image/png": "[encoded data removed]",
      "text/plain": [
       "<Figure size 432x288 with 1 Axes>"
      ]
     },
     "metadata": {
      "needs_background": "light"
     },
     "output_type": "display_data"
    }
   ],
   "source": [
    "plt.plot(Age)"
   ]
  },
  {
   "cell_type": "code",
   "execution_count": null,
   "metadata": {},
   "outputs": [],
   "source": []
  }
 ],
 "metadata": {
  "kernelspec": {
   "display_name": "Python 3",
   "language": "python",
   "name": "python3"
  },
  "language_info": {
   "codemirror_mode": {
    "name": "ipython",
    "version": 3
   },
   "file_extension": ".py",
   "mimetype": "text/x-python",
   "name": "python",
   "nbconvert_exporter": "python",
   "pygments_lexer": "ipython3",
   "version": "3.7.1"
  }
 },
 "nbformat": 4,
 "nbformat_minor": 2
}
